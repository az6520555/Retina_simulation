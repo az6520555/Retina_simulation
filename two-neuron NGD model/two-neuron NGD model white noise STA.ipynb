{
 "cells": [
  {
   "cell_type": "code",
   "execution_count": 1,
   "metadata": {},
   "outputs": [],
   "source": [
    "import numpy as np\n",
    "import matplotlib.pyplot as plt\n",
    "import math\n",
    "from scipy import signal\n",
    "from scipy.fftpack import fft, fftfreq\n",
    "from scipy.io import loadmat\n",
    "%matplotlib inline"
   ]
  },
  {
   "cell_type": "code",
   "execution_count": 2,
   "metadata": {},
   "outputs": [],
   "source": [
    "def NGD(x,alpha,beta,K,g,phi):\n",
    "    y=np.zeros(len(x))\n",
    "    z=np.zeros(len(x))\n",
    "    for j in range(len(x)-1):\n",
    "        dy=dt*(-alpha*y[j]+K*(x[j]-phi*z[j]))\n",
    "        dz=dt*(-beta*z[j]+g*y[j])\n",
    "        y[j+1]=y[j]+dy\n",
    "        z[j+1]=z[j]+dz\n",
    "    return y,z"
   ]
  },
  {
   "cell_type": "code",
   "execution_count": 3,
   "metadata": {},
   "outputs": [],
   "source": [
    "# NGD orignal model with constant time memory\n",
    "def NGD_const(x,alpha,tau_NGD,K):\n",
    "    y=np.zeros(len(T))\n",
    "    z=np.zeros(len(T))\n",
    "    for k in range(len(T)-1):\n",
    "        if T[k]>tau_NGD:\n",
    "            F=y[k-int(tau_NGD/dt)]\n",
    "        else:\n",
    "            F=0\n",
    "        dy=dt*(-alpha*y[k]+K*(x[k]-F))\n",
    "        y[k+1]=y[k]+dy\n",
    "    return y,z"
   ]
  },
  {
   "cell_type": "code",
   "execution_count": 4,
   "metadata": {},
   "outputs": [],
   "source": [
    "def EqualState(x, num_state):\n",
    "    xs=np.sort(x)\n",
    "    binlen=int(len(x)/num_state-0.5) #round\n",
    "    edges = xs[np.arange(num_state)*binlen]\n",
    "    xstate=np.zeros(len(x))\n",
    "    for i in range(num_state):\n",
    "        xstate[x>=edges[i]] = i\n",
    "    xstate = xstate.astype(int)\n",
    "    return xstate"
   ]
  },
  {
   "cell_type": "code",
   "execution_count": 5,
   "metadata": {},
   "outputs": [],
   "source": [
    "def MI(xstate,ystate,dt,window):\n",
    "    negshift=window[0] # second\n",
    "    posshift=window[1] # second\n",
    "    shiftdu=dt # second\n",
    "    shiftlen=(posshift-negshift)/dt+1\n",
    "    timeshift=np.linspace(negshift,posshift,int(shiftlen))\n",
    "    bitshift=np.linspace(negshift/dt,posshift/dt,int(shiftlen))\n",
    "    xedges=np.arange(min(xstate),max(xstate)+0.0001)\n",
    "    yedges=np.arange(min(ystate),max(ystate)+0.0001)\n",
    "    \n",
    "    # shifted data\n",
    "    # shift>0 => y shifted to positive side\n",
    "    MIvalue=np.zeros(len(bitshift))\n",
    "    for i in range(len(bitshift)):\n",
    "        xx=[]\n",
    "        yy=[]\n",
    "        shift=int(bitshift[i])\n",
    "        if shift>0:\n",
    "            xx=xstate[shift:]\n",
    "            yy=ystate[:-shift]\n",
    "        elif shift==0:\n",
    "            xx=xstate\n",
    "            yy=ystate\n",
    "        elif shift<0:\n",
    "            xx=xstate[:shift]\n",
    "            yy=ystate[-shift:]\n",
    "\n",
    "        H, xedges, yedges = np.histogram2d(xx, yy, bins=(xedges, yedges))\n",
    "        statesum=np.sum(H)\n",
    "        px_list=np.sum(H,axis=1)/statesum\n",
    "        py_list=np.sum(H,axis=0)/statesum\n",
    "        pxy_list=H/statesum\n",
    "\n",
    "        MIsingle=np.zeros((len(px_list),len(py_list)))\n",
    "        for ix in range(len(px_list)):\n",
    "            for iy in range(len(py_list)):\n",
    "                if pxy_list[ix][iy]==0:\n",
    "                    MIsingle[ix][iy]=0\n",
    "                else:\n",
    "                    MIsingle[ix][iy]=pxy_list[ix][iy]*math.log2(pxy_list[ix][iy]/px_list[ix]/py_list[iy])/dt\n",
    "        MIvalue[i]=np.sum(MIsingle)\n",
    "    return timeshift,MIvalue"
   ]
  },
  {
   "cell_type": "code",
   "execution_count": 6,
   "metadata": {},
   "outputs": [],
   "source": [
    "def FFT_quick(data):\n",
    "    Ts=dt\n",
    "    xft=fft(data)\n",
    "    xftreal = xft.real  \n",
    "    xftimg = xft.imag\n",
    "    xft_abs=abs(xft)\n",
    "    xft_nor=xft_abs/len(xft_abs)\n",
    "    xft_nor2=xft_nor[range(int(len(xft_nor)/2))]\n",
    "    freq=fftfreq(len(x), d=dt)\n",
    "    freq=freq[range(int(len(freq)/2))]\n",
    "    phase=np.angle(xft)\n",
    "    phase=phase[range(int(len(phase)/2))]\n",
    "    \n",
    "    return freq,xft_nor2,phase"
   ]
  },
  {
   "cell_type": "code",
   "execution_count": 7,
   "metadata": {},
   "outputs": [],
   "source": [
    "# # generate OU\n",
    "# Tot=300\n",
    "# dt=0.01\n",
    "# T=np.arange(dt,Tot,dt)\n",
    "# tau=1\n",
    "# D = 4\n",
    "# L=np.zeros(len(T))\n",
    "# mu, sigma = 0, 1\n",
    "# for i in range(len(T)-1):\n",
    "#     L[i+1]=L[i]*(1-dt/tau)+math.sqrt(D*dt)*np.random.normal(mu,sigma)\n",
    "    \n",
    "# # filtering\n",
    "# fc=[10,7,4,2]\n",
    "# x_set=[L]\n",
    "# for ifc in range(len(fc)):\n",
    "#     b, a = signal.butter(2, 2*fc[ifc]*dt, btype='low', analog=False)\n",
    "#     Lf = signal.filtfilt(b, a, L)\n",
    "#     x_set.append(Lf)\n",
    "    \n",
    "# for i in range(np.size(x_set,0)):\n",
    "#     plt.plot(T,x_set[i])\n",
    "# plt.xlim(150,152)"
   ]
  },
  {
   "cell_type": "code",
   "execution_count": 8,
   "metadata": {},
   "outputs": [],
   "source": [
    "dt=0.01\n",
    "T=np.arange(dt,300,dt)\n",
    "mu, sigma = 0, 1 # mean and standard deviation\n",
    "x = np.random.normal(mu, sigma, len(T))"
   ]
  },
  {
   "cell_type": "code",
   "execution_count": 10,
   "metadata": {},
   "outputs": [],
   "source": [
    "alpha,beta,K,g=6,1.6,22,10\n",
    "y,z=NGD(x,alpha,beta,K,g,1)\n",
    "#     y_set[i],z_set[i]=NGD(x_set[i],8,1.4,37,10,1)"
   ]
  },
  {
   "cell_type": "code",
   "execution_count": 13,
   "metadata": {},
   "outputs": [],
   "source": [
    "MI_set=[[] for i in range(len(x))]\n",
    "timeshift,MIdata=MI(EqualState(x,8),EqualState(y,8),dt,[-1,1])"
   ]
  },
  {
   "cell_type": "code",
   "execution_count": 15,
   "metadata": {},
   "outputs": [
    {
     "data": {
      "text/plain": [
       "[<matplotlib.lines.Line2D at 0x2d0156422c8>]"
      ]
     },
     "execution_count": 15,
     "metadata": {},
     "output_type": "execute_result"
    },
    {
     "data": {
      "image/png": "[encoded data removed]",
      "text/plain": [
       "<Figure size 432x288 with 1 Axes>"
      ]
     },
     "metadata": {
      "needs_background": "light"
     },
     "output_type": "display_data"
    }
   ],
   "source": [
    "plt.plot(timeshift*1000,MIdata) "
   ]
  },
  {
   "cell_type": "code",
   "execution_count": null,
   "metadata": {},
   "outputs": [],
   "source": []
  },
  {
   "cell_type": "code",
   "execution_count": 19,
   "metadata": {},
   "outputs": [],
   "source": [
    "# find cross correlation as simulated STA\n",
    "corr_same=np.correlate(x,y,'same')\n",
    "corr=corr_same[int(len(corr_same+1)/2)-int(1/dt):int(len(corr_same+1)/2)+int(1/dt)]\n",
    "corr=corr/max(abs(corr))\n",
    "timelag=np.arange(-int(1/dt),int(1/dt))*dt "
   ]
  },
  {
   "cell_type": "code",
   "execution_count": 23,
   "metadata": {
    "scrolled": true
   },
   "outputs": [
    {
     "data": {
      "text/plain": [
       "(-1.0995, 1.0895)"
      ]
     },
     "execution_count": 23,
     "metadata": {},
     "output_type": "execute_result"
    },
    {
     "data": {
      "image/png": "[encoded data removed]",
      "text/plain": [
       "<Figure size 432x288 with 1 Axes>"
      ]
     },
     "metadata": {
      "needs_background": "light"
     },
     "output_type": "display_data"
    }
   ],
   "source": [
    "colorlist=['#1f77b4','#ff7f0e','#d62728','#9467bd','#2ca02c']\n",
    "plt.plot(timelag,-corr)\n",
    "plt.xlim()"
   ]
  },
  {
   "cell_type": "code",
   "execution_count": null,
   "metadata": {},
   "outputs": [],
   "source": []
  },
  {
   "cell_type": "code",
   "execution_count": null,
   "metadata": {},
   "outputs": [],
   "source": []
  }
 ],
 "metadata": {
  "kernelspec": {
   "display_name": "Python 3",
   "language": "python",
   "name": "python3"
  },
  "language_info": {
   "codemirror_mode": {
    "name": "ipython",
    "version": 3
   },
   "file_extension": ".py",
   "mimetype": "text/x-python",
   "name": "python",
   "nbconvert_exporter": "python",
   "pygments_lexer": "ipython3",
   "version": "3.7.7"
  }
 },
 "nbformat": 4,
 "nbformat_minor": 2
}
