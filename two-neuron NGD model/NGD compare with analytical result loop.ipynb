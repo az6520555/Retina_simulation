{
 "cells": [
  {
   "cell_type": "code",
   "execution_count": 1,
   "metadata": {
    "ExecuteTime": {
     "end_time": "2021-10-02T10:42:26.013770Z",
     "start_time": "2021-10-02T10:42:22.579842Z"
    }
   },
   "outputs": [],
   "source": [
    "import numpy as np\n",
    "import matplotlib.pyplot as plt\n",
    "import math\n",
    "from scipy import signal\n",
    "from scipy.fftpack import fft, fftfreq\n",
    "from scipy.io import loadmat\n",
    "from scipy.signal import savgol_filter\n",
    "import xlsxwriter \n",
    "%matplotlib inline"
   ]
  },
  {
   "cell_type": "code",
   "execution_count": 2,
   "metadata": {
    "ExecuteTime": {
     "end_time": "2021-10-02T10:42:26.029535Z",
     "start_time": "2021-10-02T10:42:26.015535Z"
    }
   },
   "outputs": [],
   "source": [
    "def NGD(x):\n",
    "    y=np.zeros(len(T))\n",
    "    z=np.zeros(len(T))\n",
    "    for j in range(len(T)-1):\n",
    "        dy=dt*(-alpha*y[j]+K*(x[j]-z[j]))\n",
    "        dz=dt*(-beta*z[j]+g*y[j])\n",
    "        y[j+1]=y[j]+dy\n",
    "        z[j+1]=z[j]+dz\n",
    "    return y,z"
   ]
  },
  {
   "cell_type": "code",
   "execution_count": 3,
   "metadata": {
    "ExecuteTime": {
     "end_time": "2021-10-02T10:42:26.045455Z",
     "start_time": "2021-10-02T10:42:26.032490Z"
    }
   },
   "outputs": [],
   "source": [
    "def EqualState(x, num_state):\n",
    "    xs=np.sort(x)\n",
    "    binlen=int(len(x)/num_state-0.5) #round\n",
    "    edges = xs[np.arange(num_state)*binlen]\n",
    "    xstate=np.zeros(len(x))\n",
    "    for i in range(num_state):\n",
    "        xstate[x>=edges[i]] = i\n",
    "    xstate = xstate.astype(int)\n",
    "    return xstate"
   ]
  },
  {
   "cell_type": "code",
   "execution_count": 4,
   "metadata": {
    "ExecuteTime": {
     "end_time": "2021-10-02T10:42:26.060696Z",
     "start_time": "2021-10-02T10:42:26.047730Z"
    }
   },
   "outputs": [],
   "source": [
    "def MI(xstate,ystate,dt,window):\n",
    "    negshift=window[0] # second\n",
    "    posshift=window[1] # second\n",
    "    shiftdu=dt # second\n",
    "    shiftlen=(posshift-negshift)/dt+1\n",
    "    timeshift=np.linspace(negshift,posshift,int(shiftlen))\n",
    "    bitshift=np.linspace(negshift/dt,posshift/dt,int(shiftlen))\n",
    "    xedges=np.arange(min(xstate),max(xstate)+0.0001)\n",
    "    yedges=np.arange(min(ystate),max(ystate)+0.0001)\n",
    "    \n",
    "    # shifted data\n",
    "    # shift>0 => y shifted to positive side\n",
    "    MI=np.zeros(len(bitshift))\n",
    "    for i in range(len(bitshift)):\n",
    "        xx=[]\n",
    "        yy=[]\n",
    "        shift=int(bitshift[i])\n",
    "        if shift>0:\n",
    "            xx=xstate[shift:]\n",
    "            yy=ystate[:-shift]\n",
    "        elif shift==0:\n",
    "            xx=xstate\n",
    "            yy=ystate\n",
    "        elif shift<0:\n",
    "            xx=xstate[:shift]\n",
    "            yy=ystate[-shift:]\n",
    "\n",
    "        H, xedges, yedges = np.histogram2d(xx, yy, bins=(xedges, yedges))\n",
    "        statesum=np.sum(H)\n",
    "        px_list=np.sum(H,axis=1)/statesum\n",
    "        py_list=np.sum(H,axis=0)/statesum\n",
    "        pxy_list=H/statesum\n",
    "\n",
    "        MIsingle=np.zeros((len(px_list),len(py_list)))\n",
    "        for ix in range(len(px_list)):\n",
    "            for iy in range(len(py_list)):\n",
    "                if pxy_list[ix][iy]==0:\n",
    "                    MIsingle[ix][iy]=0\n",
    "                else:\n",
    "                    MIsingle[ix][iy]=pxy_list[ix][iy]*math.log2(pxy_list[ix][iy]/px_list[ix]/py_list[iy])\n",
    "        MI[i]=np.sum(MIsingle)\n",
    "    return timeshift,MI"
   ]
  },
  {
   "cell_type": "code",
   "execution_count": 5,
   "metadata": {
    "ExecuteTime": {
     "end_time": "2021-10-02T10:42:26.076655Z",
     "start_time": "2021-10-02T10:42:26.062693Z"
    }
   },
   "outputs": [],
   "source": [
    "def FFT_quick(data):\n",
    "    Ts=dt\n",
    "    xft=fft(data)\n",
    "    xftreal = xft.real  \n",
    "    xftimg = xft.imag\n",
    "    xft_abs=abs(xft)\n",
    "    xft_nor=xft_abs/len(xft_abs)\n",
    "    xft_nor2=xft_nor[range(int(len(xft_nor)/2))]\n",
    "    freq=fftfreq(len(x), d=dt)\n",
    "    freq=freq[range(int(len(freq)/2))]\n",
    "    phase=np.angle(xft)\n",
    "    phase=phase[range(int(len(phase)/2))]\n",
    "    \n",
    "    return freq,xft_nor2,phase"
   ]
  },
  {
   "cell_type": "code",
   "execution_count": 6,
   "metadata": {
    "ExecuteTime": {
     "end_time": "2021-10-02T10:42:26.092611Z",
     "start_time": "2021-10-02T10:42:26.078650Z"
    }
   },
   "outputs": [],
   "source": [
    "# NGD parameter \n",
    "# alpha = 6\n",
    "# beta = 1.2\n",
    "# K = 22\n",
    "# g = 10\n",
    "alpha, beta, K, g =6,1.6,22,10"
   ]
  },
  {
   "cell_type": "code",
   "execution_count": 7,
   "metadata": {
    "ExecuteTime": {
     "end_time": "2021-10-02T10:42:30.700920Z",
     "start_time": "2021-10-02T10:42:26.094621Z"
    }
   },
   "outputs": [
    {
     "name": "stderr",
     "output_type": "stream",
     "text": [
      "c:\\python37\\lib\\site-packages\\ipykernel_launcher.py:46: RuntimeWarning: divide by zero encountered in true_divide\n"
     ]
    }
   ],
   "source": [
    "# numerical result looping and averaging\n",
    "phi_avg=0\n",
    "group_avg=0\n",
    "gain_avg=0\n",
    "num_loop=3\n",
    "for num in range(num_loop):\n",
    "    # OU\n",
    "    Tot=300\n",
    "    dt_ou=0.01\n",
    "    T=np.arange(dt_ou,Tot,dt_ou)\n",
    "    tau=0.5\n",
    "    D = 4\n",
    "    L=np.zeros(len(T))\n",
    "    mu, sigma = 0, 1\n",
    "    for i in range(len(T)-1):\n",
    "        L[i+1]=L[i]*(1-dt_ou/tau)+math.sqrt(D*dt_ou)*np.random.normal(mu,sigma)\n",
    "    # filtering\n",
    "    fc=10\n",
    "    b, a = signal.butter(2, 2*fc*dt_ou, btype='low', analog=False)\n",
    "    x = signal.filtfilt(b, a, L)\n",
    "    dt=0.001\n",
    "    x = np.repeat(x,10)\n",
    "    T=np.arange(1,len(x)+1e-5)*dt\n",
    "    \n",
    "    y,z=NGD(x)\n",
    "\n",
    "    freq,p1,phasex=FFT_quick(x)\n",
    "    freq,p2,phasey=FFT_quick(y)\n",
    "\n",
    "    # phase for numerical input\n",
    "    phi=phasey-phasex\n",
    "    for i in range(len(phi)-1):\n",
    "        if phi[i+1]-phi[i]>math.pi:\n",
    "            phi[i+1]=phi[i+1]-2*math.pi\n",
    "        elif phi[i+1]-phi[i]<-math.pi:\n",
    "            phi[i+1]=phi[i+1]+2*math.pi\n",
    "\n",
    "    # group for numerical input\n",
    "    df=freq[1]-freq[0]\n",
    "    domega=df*2*math.pi\n",
    "    dphi=np.diff(phi)\n",
    "    delta=-dphi/domega\n",
    "    delta_new=savgol_filter(delta, 51, 1)\n",
    "    \n",
    "    # gain \n",
    "    G=p2/p1\n",
    "    \n",
    "    phi_avg=phi_avg+phi\n",
    "    group_avg=group_avg+delta_new\n",
    "    gain_avg=gain_avg+G\n",
    "phi_avg=phi_avg/num_loop\n",
    "group_avg=group_avg/num_loop\n",
    "gain_avg=gain_avg/num_loop"
   ]
  },
  {
   "cell_type": "code",
   "execution_count": 8,
   "metadata": {
    "ExecuteTime": {
     "end_time": "2021-10-02T10:42:30.716716Z",
     "start_time": "2021-10-02T10:42:30.703913Z"
    }
   },
   "outputs": [
    {
     "data": {
      "text/plain": [
       "(299990, 299990)"
      ]
     },
     "execution_count": 8,
     "metadata": {},
     "output_type": "execute_result"
    }
   ],
   "source": [
    "len(x),len(T)"
   ]
  },
  {
   "cell_type": "code",
   "execution_count": 9,
   "metadata": {
    "ExecuteTime": {
     "end_time": "2021-10-02T10:42:30.978829Z",
     "start_time": "2021-10-02T10:42:30.720721Z"
    }
   },
   "outputs": [
    {
     "data": {
      "text/plain": [
       "(-2, 4)"
      ]
     },
     "execution_count": 9,
     "metadata": {},
     "output_type": "execute_result"
    },
    {
     "data": {
      "image/png": "[encoded data removed]",
      "text/plain": [
       "<Figure size 432x288 with 1 Axes>"
      ]
     },
     "metadata": {
      "needs_background": "light"
     },
     "output_type": "display_data"
    }
   ],
   "source": [
    "plt.plot(freq,phi_avg)\n",
    "plt.plot(freq[:-1],group_avg)\n",
    "plt.plot(freq,gain_avg)\n",
    "plt.xlim(0,5)\n",
    "plt.ylim(-2,4)"
   ]
  },
  {
   "cell_type": "code",
   "execution_count": 10,
   "metadata": {
    "ExecuteTime": {
     "end_time": "2021-10-02T10:42:31.202705Z",
     "start_time": "2021-10-02T10:42:30.979826Z"
    }
   },
   "outputs": [],
   "source": [
    "# save excel file of numerical data\n",
    "workbook = xlsxwriter.Workbook('F:/我的雲端硬碟/Retina exp/Retina as NGD paper submit/data/NGD_numerical_result.xlsx') \n",
    "worksheet = workbook.add_worksheet()\n",
    "for i in range(len(freq[freq<5])):\n",
    "    worksheet.write(i,0,freq[i])\n",
    "    worksheet.write(i,1,phi_avg[i])\n",
    "    worksheet.write(i,2,group_avg[i])\n",
    "    worksheet.write(i,3,gain_avg[i])\n",
    "workbook.close()"
   ]
  },
  {
   "cell_type": "code",
   "execution_count": 11,
   "metadata": {
    "ExecuteTime": {
     "end_time": "2021-10-02T10:42:31.603846Z",
     "start_time": "2021-10-02T10:42:31.205662Z"
    }
   },
   "outputs": [],
   "source": [
    "# analytic result \n",
    "omega=np.arange(0,50,0.001)\n",
    "A=np.zeros(len(omega))\n",
    "B=np.zeros(len(omega))\n",
    "for i in range(len(omega)):\n",
    "    A[i]=alpha*beta**2+g*beta*K+omega[i]**2*alpha\n",
    "    B[i]=-omega[i]**3+omega[i]*g*K-beta**2*omega[i]\n",
    "# phase\n",
    "phi_ana=np.zeros(len(omega))\n",
    "for i in range(len(omega)):\n",
    "    phi_ana[i]=math.atan(B[i]/A[i])\n",
    "# group\n",
    "delta_ana=-np.diff(phi_ana)/(omega[1]-omega[0])\n",
    "# gain\n",
    "C=np.zeros(len(omega))\n",
    "for i in range(len(omega)):\n",
    "    C[i]=(-omega[i]**2+alpha*beta+g*K)**2+(omega[i]*(alpha+beta))**2\n",
    "gain_ana=K/C*(A**2+B**2)**(1/2)"
   ]
  },
  {
   "cell_type": "code",
   "execution_count": 12,
   "metadata": {
    "ExecuteTime": {
     "end_time": "2021-10-02T10:42:34.209428Z",
     "start_time": "2021-10-02T10:42:31.605836Z"
    },
    "scrolled": false
   },
   "outputs": [
    {
     "name": "stderr",
     "output_type": "stream",
     "text": [
      "c:\\python37\\lib\\site-packages\\IPython\\core\\events.py:88: UserWarning: Creating legend with loc=\"best\" can be slow with large amounts of data.\n",
      "  func(*args, **kwargs)\n",
      "c:\\python37\\lib\\site-packages\\IPython\\core\\pylabtools.py:128: UserWarning: Creating legend with loc=\"best\" can be slow with large amounts of data.\n",
      "  fig.canvas.print_figure(bytes_io, **kw)\n"
     ]
    },
    {
     "data": {
      "image/png": "[encoded data removed]",
      "text/plain": [
       "<Figure size 432x288 with 1 Axes>"
      ]
     },
     "metadata": {
      "needs_background": "light"
     },
     "output_type": "display_data"
    }
   ],
   "source": [
    "# plt.plot(freq,phi)\n",
    "# plt.plot(freq[0:-1],delta_new)\n",
    "# plt.plot(freq,p2/p1)\n",
    "\n",
    "plt.plot(freq,phi_avg)\n",
    "plt.plot(freq[0:-1],group_avg)\n",
    "plt.plot(freq,gain_avg)\n",
    "\n",
    "plt.plot(omega/2/math.pi,phi_ana)\n",
    "plt.plot(omega[0:-1]/2/math.pi,delta_ana)\n",
    "plt.plot(omega/2/math.pi,gain_ana)\n",
    "\n",
    "plt.xlim(0,20)\n",
    "plt.ylim(-2,4)\n",
    "# plt.ylim(-0.2,0.5)\n",
    "plt.legend(('numerical $\\phi$','numerical $\\delta$','numerical Gain','analytic $\\phi$','analytic $\\delta$','analytic Gain'))\n",
    "plt.grid()"
   ]
  },
  {
   "cell_type": "code",
   "execution_count": 13,
   "metadata": {
    "ExecuteTime": {
     "end_time": "2021-10-02T10:42:34.224581Z",
     "start_time": "2021-10-02T10:42:34.210391Z"
    }
   },
   "outputs": [
    {
     "name": "stdout",
     "output_type": "stream",
     "text": [
      "2.493416447214907\n"
     ]
    }
   ],
   "source": [
    "print(freq[np.argmax(gain_avg[freq<5])])"
   ]
  },
  {
   "cell_type": "code",
   "execution_count": 14,
   "metadata": {
    "ExecuteTime": {
     "end_time": "2021-10-02T10:42:36.093728Z",
     "start_time": "2021-10-02T10:42:34.228546Z"
    }
   },
   "outputs": [],
   "source": [
    "# save excel file of analytic data\n",
    "workbook = xlsxwriter.Workbook('F:/我的雲端硬碟/Retina exp/Retina as NGD paper submit/data/NGD_analytic_result.xlsx') \n",
    "f_ana=omega/2/math.pi\n",
    "worksheet = workbook.add_worksheet()\n",
    "for i in range(len(f_ana[f_ana<5])):\n",
    "    worksheet.write(i,0,f_ana[i])\n",
    "    worksheet.write(i,1,phi_ana[i])\n",
    "    worksheet.write(i,2,delta_ana[i])\n",
    "    worksheet.write(i,3,gain_ana[i])\n",
    "workbook.close()"
   ]
  },
  {
   "cell_type": "code",
   "execution_count": 15,
   "metadata": {
    "ExecuteTime": {
     "end_time": "2021-10-02T10:42:36.477138Z",
     "start_time": "2021-10-02T10:42:36.095724Z"
    },
    "scrolled": true
   },
   "outputs": [
    {
     "data": {
      "text/plain": [
       "Text(0, 0.5, 'group delay (s)')"
      ]
     },
     "execution_count": 15,
     "metadata": {},
     "output_type": "execute_result"
    },
    {
     "data": {
      "image/png": "[encoded data removed]",
      "text/plain": [
       "<Figure size 432x288 with 2 Axes>"
      ]
     },
     "metadata": {
      "needs_background": "light"
     },
     "output_type": "display_data"
    }
   ],
   "source": [
    "plt.subplot(2,1,1)\n",
    "plt.title('low-passed OU fc=10 hz')\n",
    "plt.plot(freq,p1)\n",
    "plt.plot(freq,p2)\n",
    "plt.xlim(0,5)\n",
    "plt.subplot(2,1,2)\n",
    "plt.plot(omega[0:-1]/2/math.pi,delta_ana)\n",
    "# plt.plot(omega/2/math.pi,gain_ana)\n",
    "plt.xlabel('f (hz)')\n",
    "plt.ylabel('group delay (s)')\n",
    "# plt.legend(('group delay (s)','gain'))"
   ]
  },
  {
   "cell_type": "code",
   "execution_count": 16,
   "metadata": {
    "ExecuteTime": {
     "end_time": "2021-10-02T10:43:41.034678Z",
     "start_time": "2021-10-02T10:42:36.479138Z"
    }
   },
   "outputs": [
    {
     "ename": "KeyboardInterrupt",
     "evalue": "",
     "output_type": "error",
     "traceback": [
      "\u001b[1;31m---------------------------------------------------------------------------\u001b[0m",
      "\u001b[1;31mKeyboardInterrupt\u001b[0m                         Traceback (most recent call last)",
      "\u001b[1;32m<ipython-input-16-17f573ee8a85>\u001b[0m in \u001b[0;36m<module>\u001b[1;34m\u001b[0m\n\u001b[1;32m----> 1\u001b[1;33m \u001b[0mxycorr\u001b[0m\u001b[1;33m=\u001b[0m\u001b[0mnp\u001b[0m\u001b[1;33m.\u001b[0m\u001b[0mcorrelate\u001b[0m\u001b[1;33m(\u001b[0m\u001b[0mx\u001b[0m\u001b[1;33m,\u001b[0m\u001b[0my\u001b[0m\u001b[1;33m,\u001b[0m\u001b[1;34m'full'\u001b[0m\u001b[1;33m)\u001b[0m\u001b[1;33m\u001b[0m\u001b[1;33m\u001b[0m\u001b[0m\n\u001b[0m",
      "\u001b[1;32m<__array_function__ internals>\u001b[0m in \u001b[0;36mcorrelate\u001b[1;34m(*args, **kwargs)\u001b[0m\n",
      "\u001b[1;32mc:\\python37\\lib\\site-packages\\numpy\\core\\numeric.py\u001b[0m in \u001b[0;36mcorrelate\u001b[1;34m(a, v, mode)\u001b[0m\n\u001b[0;32m    710\u001b[0m     \"\"\"\n\u001b[0;32m    711\u001b[0m     \u001b[0mmode\u001b[0m \u001b[1;33m=\u001b[0m \u001b[0m_mode_from_name\u001b[0m\u001b[1;33m(\u001b[0m\u001b[0mmode\u001b[0m\u001b[1;33m)\u001b[0m\u001b[1;33m\u001b[0m\u001b[1;33m\u001b[0m\u001b[0m\n\u001b[1;32m--> 712\u001b[1;33m     \u001b[1;32mreturn\u001b[0m \u001b[0mmultiarray\u001b[0m\u001b[1;33m.\u001b[0m\u001b[0mcorrelate2\u001b[0m\u001b[1;33m(\u001b[0m\u001b[0ma\u001b[0m\u001b[1;33m,\u001b[0m \u001b[0mv\u001b[0m\u001b[1;33m,\u001b[0m \u001b[0mmode\u001b[0m\u001b[1;33m)\u001b[0m\u001b[1;33m\u001b[0m\u001b[1;33m\u001b[0m\u001b[0m\n\u001b[0m\u001b[0;32m    713\u001b[0m \u001b[1;33m\u001b[0m\u001b[0m\n\u001b[0;32m    714\u001b[0m \u001b[1;33m\u001b[0m\u001b[0m\n",
      "\u001b[1;31mKeyboardInterrupt\u001b[0m: "
     ]
    }
   ],
   "source": [
    "xycorr=np.correlate(x,y,'full')"
   ]
  },
  {
   "cell_type": "code",
   "execution_count": null,
   "metadata": {
    "ExecuteTime": {
     "end_time": "2021-10-02T10:43:41.038659Z",
     "start_time": "2021-10-02T10:42:22.615Z"
    },
    "scrolled": true
   },
   "outputs": [],
   "source": [
    "negwindow=2\n",
    "poswindow=2\n",
    "TS=np.arange(-negwindow,poswindow+1e-10,dt)\n",
    "index_mid=int((len(xycorr)+1)/2)\n",
    "corr_select=xycorr[index_mid-int(negwindow/dt):index_mid+int(poswindow/dt)+1]\n",
    "plt.plot(TS,corr_select)\n",
    "plt.xlabel('shift (s)')\n",
    "plt.title('cross correlation of input and output')\n",
    "plt.xlim()\n",
    "plt.grid()"
   ]
  },
  {
   "cell_type": "code",
   "execution_count": null,
   "metadata": {
    "ExecuteTime": {
     "end_time": "2021-10-02T10:43:41.040620Z",
     "start_time": "2021-10-02T10:42:22.617Z"
    },
    "scrolled": true
   },
   "outputs": [],
   "source": [
    "print(TS[np.argmax(corr_select)])\n",
    "print(TS[np.argmin(corr_select)])"
   ]
  },
  {
   "cell_type": "code",
   "execution_count": null,
   "metadata": {
    "ExecuteTime": {
     "end_time": "2021-10-02T10:43:41.041621Z",
     "start_time": "2021-10-02T10:42:22.618Z"
    }
   },
   "outputs": [],
   "source": [
    "# OU\n",
    "Tot=300\n",
    "dt=0.01\n",
    "T=np.arange(dt,Tot,dt)\n",
    "D = 4\n",
    "tau=0.1\n",
    "mu, sigma = 0, 1\n",
    "randterm=np.random.normal(mu,sigma,len(T)-1)\n",
    "L=np.zeros(len(T))\n",
    "for i in range(len(T)-1):\n",
    "    L[i+1]=L[i]*(1-dt/tau)+math.sqrt(D*dt)*randterm[i]\n",
    "x=[[] for k in range(3)]\n",
    "fc=[7,4,2]\n",
    "for n in range(len(fc)):\n",
    "    b, a = signal.butter(2, 2*fc[n]*dt, btype='low', analog=False)\n",
    "    Lf = signal.filtfilt(b, a, L)\n",
    "    Lf=Lf/np.std(Lf)\n",
    "    x[n]=Lf"
   ]
  },
  {
   "cell_type": "code",
   "execution_count": null,
   "metadata": {
    "ExecuteTime": {
     "end_time": "2021-10-02T10:43:41.043613Z",
     "start_time": "2021-10-02T10:42:22.620Z"
    }
   },
   "outputs": [],
   "source": [
    "alpha, beta, K, g =10,1.4,30,10\n",
    "y=[[] for k in range(3)]\n",
    "for i in range(3):\n",
    "    y[i],z=NGD(x[i])"
   ]
  },
  {
   "cell_type": "code",
   "execution_count": null,
   "metadata": {
    "ExecuteTime": {
     "end_time": "2021-10-02T10:43:41.044610Z",
     "start_time": "2021-10-02T10:42:22.623Z"
    }
   },
   "outputs": [],
   "source": [
    "for i in range(3):\n",
    "    plt.plot(T,x[i])\n",
    "plt.xlim(100,110)"
   ]
  },
  {
   "cell_type": "code",
   "execution_count": null,
   "metadata": {
    "ExecuteTime": {
     "end_time": "2021-10-02T10:43:41.045607Z",
     "start_time": "2021-10-02T10:42:22.625Z"
    }
   },
   "outputs": [],
   "source": [
    "plt.plot(y[0])\n",
    "plt.plot(y[1])\n",
    "plt.plot(y[2])\n",
    "plt.xlim()"
   ]
  },
  {
   "cell_type": "code",
   "execution_count": null,
   "metadata": {},
   "outputs": [],
   "source": []
  },
  {
   "cell_type": "code",
   "execution_count": null,
   "metadata": {
    "ExecuteTime": {
     "end_time": "2021-10-02T10:43:41.046605Z",
     "start_time": "2021-10-02T10:42:22.627Z"
    }
   },
   "outputs": [],
   "source": [
    "xycorr1=np.correlate(x[0],y[0],'full')\n",
    "xycorr2=np.correlate(x[1],y[1],'full')\n",
    "xycorr3=np.correlate(x[2],y[2],'full')\n",
    "\n",
    "negwindow=2\n",
    "poswindow=2\n",
    "TS=np.arange(-negwindow,poswindow+1e-10,dt)\n",
    "index_mid=int((len(xycorr)+1)/2)\n",
    "c1=xycorr1[index_mid-int(negwindow/dt):index_mid+int(poswindow/dt)+1]\n",
    "c2=xycorr2[index_mid-int(negwindow/dt):index_mid+int(poswindow/dt)+1]\n",
    "c3=xycorr3[index_mid-int(negwindow/dt):index_mid+int(poswindow/dt)+1]"
   ]
  },
  {
   "cell_type": "code",
   "execution_count": null,
   "metadata": {
    "ExecuteTime": {
     "end_time": "2021-10-02T10:43:41.047603Z",
     "start_time": "2021-10-02T10:42:22.629Z"
    }
   },
   "outputs": [],
   "source": [
    "# plt.plot(TS,c1)\n",
    "plt.plot(TS,c2)\n",
    "# plt.plot(TS,c3)\n",
    "plt.plot(2)\n",
    "plt.grid()\n",
    "plt.xlabel('shift (s)')\n",
    "plt.title('cross correlation of input and output')"
   ]
  },
  {
   "cell_type": "code",
   "execution_count": null,
   "metadata": {
    "ExecuteTime": {
     "end_time": "2021-10-02T10:43:41.048600Z",
     "start_time": "2021-10-02T10:42:22.631Z"
    }
   },
   "outputs": [],
   "source": [
    "plt.plot(TS,c3)"
   ]
  },
  {
   "cell_type": "code",
   "execution_count": null,
   "metadata": {},
   "outputs": [],
   "source": []
  },
  {
   "cell_type": "code",
   "execution_count": null,
   "metadata": {
    "ExecuteTime": {
     "end_time": "2021-10-02T10:43:41.049597Z",
     "start_time": "2021-10-02T10:42:22.633Z"
    }
   },
   "outputs": [],
   "source": [
    "# analytic result as a function\n",
    "def NGD_analytic(alpha, beta, K, g):\n",
    "    omega=np.linspace(0,30,10000)\n",
    "    A=np.zeros(len(omega))\n",
    "    B=np.zeros(len(omega))\n",
    "    for i in range(len(omega)):\n",
    "        A[i]=alpha*beta**2+g*beta*K+omega[i]**2*alpha\n",
    "        B[i]=-omega[i]**3+omega[i]*g*K-beta**2*omega[i]\n",
    "    # phase\n",
    "    phi_ana=np.zeros(len(omega))\n",
    "    for i in range(len(omega)):\n",
    "        phi_ana[i]=math.atan(B[i]/A[i])\n",
    "    # group\n",
    "    delta_ana=-np.diff(phi_ana)/(omega[1]-omega[0])\n",
    "    # gain\n",
    "    C=np.zeros(len(omega))\n",
    "    for i in range(len(omega)):\n",
    "        C[i]=(-omega[i]**2+alpha*beta+g*K)**2+(omega[i]*(alpha+beta))**2\n",
    "    gain_ana=K/C*(A**2+B**2)**(1/2)\n",
    "    return phi_ana, delta_ana, gain_ana, omega/2/math.pi"
   ]
  },
  {
   "cell_type": "code",
   "execution_count": null,
   "metadata": {
    "ExecuteTime": {
     "end_time": "2021-10-02T10:43:41.050621Z",
     "start_time": "2021-10-02T10:42:22.635Z"
    }
   },
   "outputs": [],
   "source": [
    "alpha_set=[5,10,15,20]\n",
    "fig = plt.figure(figsize=(8,8))\n",
    "ax1=fig.add_subplot(2,1,1)\n",
    "ax2=fig.add_subplot(2,1,2)\n",
    "for i in range(len(alpha_set)):\n",
    "    phi_temp,delta_temp,gain_temp,f_temp=NGD_analytic(alpha_set[i],1.4,30,10)\n",
    "    ax1.plot(f_temp,gain_temp)\n",
    "    ax2.plot(f_temp[:-1],delta_temp,'--')\n",
    "legend_list=['alpha='+str(alpha_set[j]) for j in range(len(alpha_set))]\n",
    "ax1.legend((legend_list))\n",
    "ax2.legend((legend_list))\n",
    "ax1.set_title('Gain')\n",
    "ax2.set_title('Group delay')"
   ]
  },
  {
   "cell_type": "code",
   "execution_count": null,
   "metadata": {
    "ExecuteTime": {
     "end_time": "2021-10-02T10:43:41.051593Z",
     "start_time": "2021-10-02T10:42:22.638Z"
    }
   },
   "outputs": [],
   "source": [
    "K_set=[10,20,30,40]\n",
    "fig = plt.figure(figsize=(8,8))\n",
    "ax1=fig.add_subplot(2,1,1)\n",
    "ax2=fig.add_subplot(2,1,2)\n",
    "for i in range(len(K_set)):\n",
    "    phi_temp,delta_temp,gain_temp,f_temp=NGD_analytic(10,1.4,K_set[i],10)\n",
    "    ax1.plot(f_temp,gain_temp)\n",
    "    ax2.plot(f_temp[:-1],delta_temp,'--')\n",
    "legend_list=['K='+str(K_set[j]) for j in range(len(K_set))]\n",
    "ax1.legend((legend_list))\n",
    "ax2.legend((legend_list))\n",
    "ax1.set_title('Gain')\n",
    "ax2.set_title('Group delay')"
   ]
  },
  {
   "cell_type": "code",
   "execution_count": null,
   "metadata": {
    "ExecuteTime": {
     "end_time": "2021-10-02T10:43:41.052589Z",
     "start_time": "2021-10-02T10:42:22.640Z"
    }
   },
   "outputs": [],
   "source": [
    "beta_set=[0.5,0.8,1.3,2]\n",
    "fig = plt.figure(figsize=(8,8))\n",
    "ax1=fig.add_subplot(2,1,1)\n",
    "ax2=fig.add_subplot(2,1,2)\n",
    "for i in range(len(beta_set)):\n",
    "    phi_temp,delta_temp,gain_temp,f_temp=NGD_analytic(10,beta_set[i],30,10)\n",
    "    ax1.plot(f_temp,gain_temp)\n",
    "    ax2.plot(f_temp[:-1],delta_temp,'--')"
   ]
  },
  {
   "cell_type": "code",
   "execution_count": null,
   "metadata": {},
   "outputs": [],
   "source": []
  }
 ],
 "metadata": {
  "kernelspec": {
   "display_name": "Python 3",
   "language": "python",
   "name": "python3"
  },
  "language_info": {
   "codemirror_mode": {
    "name": "ipython",
    "version": 3
   },
   "file_extension": ".py",
   "mimetype": "text/x-python",
   "name": "python",
   "nbconvert_exporter": "python",
   "pygments_lexer": "ipython3",
   "version": "3.7.4"
  },
  "toc": {
   "base_numbering": 1,
   "nav_menu": {},
   "number_sections": true,
   "sideBar": true,
   "skip_h1_title": false,
   "title_cell": "Table of Contents",
   "title_sidebar": "Contents",
   "toc_cell": false,
   "toc_position": {},
   "toc_section_display": true,
   "toc_window_display": false
  },
  "varInspector": {
   "cols": {
    "lenName": 16,
    "lenType": 16,
    "lenVar": 40
   },
   "kernels_config": {
    "python": {
     "delete_cmd_postfix": "",
     "delete_cmd_prefix": "del ",
     "library": "var_list.py",
     "varRefreshCmd": "print(var_dic_list())"
    },
    "r": {
     "delete_cmd_postfix": ") ",
     "delete_cmd_prefix": "rm(",
     "library": "var_list.r",
     "varRefreshCmd": "cat(var_dic_list()) "
    }
   },
   "types_to_exclude": [
    "module",
    "function",
    "builtin_function_or_method",
    "instance",
    "_Feature"
   ],
   "window_display": false
  }
 },
 "nbformat": 4,
 "nbformat_minor": 2
}
