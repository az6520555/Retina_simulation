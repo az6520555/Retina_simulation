{
 "cells": [
  {
   "cell_type": "code",
   "execution_count": 1,
   "metadata": {},
   "outputs": [],
   "source": [
    "import numpy as np\n",
    "import matplotlib.pyplot as plt\n",
    "import math\n",
    "from scipy import signal\n",
    "from scipy.fftpack import fft, fftfreq\n",
    "from scipy.io import loadmat\n",
    "import xlsxwriter \n",
    "%matplotlib inline"
   ]
  },
  {
   "cell_type": "code",
   "execution_count": 2,
   "metadata": {},
   "outputs": [],
   "source": [
    "def NGD(x,alpha,beta,K,g,phi):\n",
    "    y=np.zeros(len(x))\n",
    "    z=np.zeros(len(x))\n",
    "    for j in range(len(x)-1):\n",
    "        dy=dt*(-alpha*y[j]+K*(x[j]-phi*z[j]))\n",
    "        dz=dt*(-beta*z[j]+g*y[j])\n",
    "        y[j+1]=y[j]+dy\n",
    "        z[j+1]=z[j]+dz\n",
    "    return y,z"
   ]
  },
  {
   "cell_type": "code",
   "execution_count": 3,
   "metadata": {},
   "outputs": [],
   "source": [
    "# NGD orignal model with constant time memory\n",
    "def NGD_const(x,alpha,tau_NGD,K):\n",
    "    y=np.zeros(len(T))\n",
    "    z=np.zeros(len(T))\n",
    "    for k in range(len(T)-1):\n",
    "        if T[k]>tau_NGD:\n",
    "            F=y[k-int(tau_NGD/dt)]\n",
    "        else:\n",
    "            F=0\n",
    "        dy=dt*(-alpha*y[k]+K*(x[k]-F))\n",
    "        y[k+1]=y[k]+dy\n",
    "    return y,z"
   ]
  },
  {
   "cell_type": "code",
   "execution_count": 4,
   "metadata": {},
   "outputs": [],
   "source": [
    "def EqualState(x, num_state):\n",
    "    xs=np.sort(x)\n",
    "    binlen=int(len(x)/num_state-0.5) #round\n",
    "    edges = xs[np.arange(num_state)*binlen]\n",
    "    xstate=np.zeros(len(x))\n",
    "    for i in range(num_state):\n",
    "        xstate[x>=edges[i]] = i\n",
    "    xstate = xstate.astype(int)\n",
    "    return xstate"
   ]
  },
  {
   "cell_type": "code",
   "execution_count": 5,
   "metadata": {},
   "outputs": [],
   "source": [
    "def MI(xstate,ystate,dt,window):\n",
    "    negshift=window[0] # second\n",
    "    posshift=window[1] # second\n",
    "    shiftdu=dt # second\n",
    "    shiftlen=(posshift-negshift)/dt+1\n",
    "    timeshift=np.linspace(negshift,posshift,int(shiftlen))\n",
    "    bitshift=np.linspace(negshift/dt,posshift/dt,int(shiftlen))\n",
    "    xedges=np.arange(min(xstate),max(xstate)+0.0001)\n",
    "    yedges=np.arange(min(ystate),max(ystate)+0.0001)\n",
    "    \n",
    "    # shifted data\n",
    "    # shift>0 => y shifted to positive side\n",
    "    MIvalue=np.zeros(len(bitshift))\n",
    "    for i in range(len(bitshift)):\n",
    "        xx=[]\n",
    "        yy=[]\n",
    "        shift=int(bitshift[i])\n",
    "        if shift>0:\n",
    "            xx=xstate[shift:]\n",
    "            yy=ystate[:-shift]\n",
    "        elif shift==0:\n",
    "            xx=xstate\n",
    "            yy=ystate\n",
    "        elif shift<0:\n",
    "            xx=xstate[:shift]\n",
    "            yy=ystate[-shift:]\n",
    "\n",
    "        H, xedges, yedges = np.histogram2d(xx, yy, bins=(xedges, yedges))\n",
    "        statesum=np.sum(H)\n",
    "        px_list=np.sum(H,axis=1)/statesum\n",
    "        py_list=np.sum(H,axis=0)/statesum\n",
    "        pxy_list=H/statesum\n",
    "\n",
    "        MIsingle=np.zeros((len(px_list),len(py_list)))\n",
    "        for ix in range(len(px_list)):\n",
    "            for iy in range(len(py_list)):\n",
    "                if pxy_list[ix][iy]==0:\n",
    "                    MIsingle[ix][iy]=0\n",
    "                else:\n",
    "                    MIsingle[ix][iy]=pxy_list[ix][iy]*math.log2(pxy_list[ix][iy]/px_list[ix]/py_list[iy])/dt\n",
    "        MIvalue[i]=np.sum(MIsingle)\n",
    "    return timeshift,MIvalue"
   ]
  },
  {
   "cell_type": "code",
   "execution_count": 6,
   "metadata": {},
   "outputs": [],
   "source": [
    "def FFT_quick(data):\n",
    "    Ts=dt\n",
    "    xft=fft(data)\n",
    "    xftreal = xft.real  \n",
    "    xftimg = xft.imag\n",
    "    xft_abs=abs(xft)\n",
    "    xft_nor=xft_abs/len(xft_abs)\n",
    "    xft_nor2=xft_nor[range(int(len(xft_nor)/2))]\n",
    "    freq=fftfreq(len(x), d=dt)\n",
    "    freq=freq[range(int(len(freq)/2))]\n",
    "    phase=np.angle(xft)\n",
    "    phase=phase[range(int(len(phase)/2))]\n",
    "    \n",
    "    return freq,xft_nor2,phase"
   ]
  },
  {
   "cell_type": "code",
   "execution_count": 7,
   "metadata": {},
   "outputs": [
    {
     "data": {
      "text/plain": [
       "(150.0, 152.0)"
      ]
     },
     "execution_count": 7,
     "metadata": {},
     "output_type": "execute_result"
    },
    {
     "data": {
      "image/png": "[encoded data removed]",
      "text/plain": [
       "<Figure size 432x288 with 1 Axes>"
      ]
     },
     "metadata": {
      "needs_background": "light"
     },
     "output_type": "display_data"
    }
   ],
   "source": [
    "# generate OU\n",
    "Tot=100\n",
    "dt=0.001\n",
    "T=np.arange(dt,Tot,dt)\n",
    "tau=1\n",
    "D = 4\n",
    "L=np.zeros(len(T))\n",
    "mu, sigma = 0, 1\n",
    "for i in range(len(T)-1):\n",
    "    L[i+1]=L[i]*(1-dt/tau)+math.sqrt(D*dt)*np.random.normal(mu,sigma)\n",
    "    \n",
    "# filtering\n",
    "fc=[10,7,4,2]\n",
    "x_set=[L]\n",
    "for ifc in range(len(fc)):\n",
    "    b, a = signal.butter(2, 2*fc[ifc]*dt, btype='low', analog=False)\n",
    "    Lf = signal.filtfilt(b, a, L)\n",
    "    x_set.append(Lf)\n",
    "    \n",
    "for i in range(np.size(x_set,0)):\n",
    "    plt.plot(T,x_set[i])\n",
    "plt.xlim(150,152)"
   ]
  },
  {
   "cell_type": "code",
   "execution_count": null,
   "metadata": {},
   "outputs": [],
   "source": []
  },
  {
   "cell_type": "code",
   "execution_count": 8,
   "metadata": {},
   "outputs": [],
   "source": [
    "y_set=[[] for i in range(len(x_set))]\n",
    "z_set=[[] for i in range(len(x_set))]\n",
    "alpha,beta,K,g=6,1.6,22,10\n",
    "for i in range(len(x_set)):\n",
    "    y_set[i],z_set[i]=NGD(x_set[i],alpha,beta,K,g,1)\n",
    "#     y_set[i],z_set[i]=NGD(x_set[i],8,1.4,37,10,1)"
   ]
  },
  {
   "cell_type": "code",
   "execution_count": null,
   "metadata": {},
   "outputs": [],
   "source": [
    "MI_set=[[] for i in range(len(x_set))]\n",
    "for i in range(len(x_set)):\n",
    "    timeshift,MI_set[i]=MI(EqualState(x_set[i],8),EqualState(y_set[i],8),dt,[-1,1])"
   ]
  },
  {
   "cell_type": "code",
   "execution_count": null,
   "metadata": {
    "scrolled": true
   },
   "outputs": [],
   "source": [
    "for i in range(np.size(x_set,0)):\n",
    "    colorlist=['#1f77b4','#ff7f0e','#d62728','#9467bd','#2ca02c']\n",
    "    plt.plot(timeshift*1000,MI_set[i],color=colorlist[i]) \n",
    "    legend_list=[str(fc[j])+'hz' for j in range(len(fc))]\n",
    "    legend_list.insert(0,'original')\n",
    "#     plt.legend(('original','10hz','7hz','4hz','2hz'))\n",
    "    plt.legend((legend_list))\n",
    "    plt.xlabel('TimeShift (ms)')\n",
    "    plt.ylabel('MI (Arbitrary Unit)')\n",
    "plt.grid()\n",
    "plt.show()\n",
    "#     plt.xlim(-500,500)"
   ]
  },
  {
   "cell_type": "code",
   "execution_count": null,
   "metadata": {},
   "outputs": [],
   "source": [
    "# without feedback\n",
    "y0,z0=NGD(x_set[-1],8,1.4,37,10,0)\n",
    "timeshift,MI0=MI(EqualState(x_set[0],8),EqualState(y0,8),dt,[-1,1])\n",
    "plt.plot(timeshift,MI0)\n",
    "plt.plot(timeshift,MI_set[-1])"
   ]
  },
  {
   "cell_type": "code",
   "execution_count": null,
   "metadata": {},
   "outputs": [],
   "source": []
  },
  {
   "cell_type": "code",
   "execution_count": null,
   "metadata": {},
   "outputs": [],
   "source": []
  },
  {
   "cell_type": "code",
   "execution_count": null,
   "metadata": {},
   "outputs": [],
   "source": [
    "# find cross correlation as simulated STA\n",
    "corr_set=[[] for i in range(len(x_set))]\n",
    "for i in range(len(x_set)):\n",
    "    corr_same=np.correlate(x_set[i],y_set[i],'same')\n",
    "    corr_set[i]=corr_same[int(len(corr_same+1)/2)-int(1/dt):int(len(corr_same+1)/2)+int(1/dt)]\n",
    "    corr_set[i]=corr_set[i]/max(abs(corr_set[i]))\n",
    "timelag=np.arange(-int(1/dt),int(1/dt))*dt "
   ]
  },
  {
   "cell_type": "code",
   "execution_count": null,
   "metadata": {
    "scrolled": false
   },
   "outputs": [],
   "source": [
    "colorlist=['#1f77b4','#ff7f0e','#d62728','#9467bd','#2ca02c']\n",
    "for i in range(len(corr_set)):\n",
    "    plt.plot(timelag*1000,-corr_set[i],color=colorlist[i])"
   ]
  },
  {
   "cell_type": "code",
   "execution_count": null,
   "metadata": {},
   "outputs": [],
   "source": [
    "# calculate the equivalent temporal kernel\n",
    "dt=0.01\n",
    "T=np.arange(dt,300,dt)\n",
    "mu, sigma = 0, 1 # mean and standard deviation\n",
    "x_ori = np.random.normal(mu, sigma, len(T))\n",
    "t_k=np.arange(0,100)*dt\n",
    "tau_x=0.015\n",
    "kx=t_k**4*np.exp(-t_k/tau_x)/tau_x**2\n",
    "kx=kx/np.sum(kx)\n",
    "plt.plot(t_k,kx)\n",
    "print(t_k[np.argmax(kx)])\n",
    "plt.show()\n",
    "\n",
    "x_delay=np.convolve(x_ori,kx,'valid')\n",
    "alpha1,beta1,K1,g1=10,0.2,20,10\n",
    "y_ori,z_ori=NGD(x_ori,alpha1,beta1,K1,g1,1)\n",
    "y_convolved,z_convolved=NGD(x_delay,alpha1,beta1,K1,g1,1)\n",
    "\n",
    "corr1=np.correlate(x_ori,y_ori,'same')\n",
    "corr2=np.correlate(x_ori[len(kx)-1:],y_convolved,'same')\n",
    "\n",
    "plt.plot(np.arange(0,300)*dt,-corr1[round((len(corr1))/2):round((len(corr1))/2-300):-1])\n",
    "plt.plot(np.arange(0,300)*dt,-corr2[round((len(corr2))/2):round((len(corr2))/2-300):-1])\n",
    "plt.xlim()\n",
    "plt.grid()\n",
    "plt.show()\n"
   ]
  },
  {
   "cell_type": "code",
   "execution_count": null,
   "metadata": {},
   "outputs": [],
   "source": [
    "# use the equivalent temporal kernel to generate the output\n",
    "t_tempk=np.arange(0,int(1/dt))*dt\n",
    "equi_temp_k=corr2[round((len(corr2))/2):round((len(corr2))/2-100):-1]\n",
    "equi_temp_k=equi_temp_k/np.sqrt(sum(equi_temp_k**2))\n",
    "# equi_temp_k=np.zeros(300)\n",
    "# equi_temp_k[0]=1\n",
    "plt.plot(t_tempk,equi_temp_k)\n",
    "plt.xlim(0,1)\n",
    "plt.grid()\n",
    "plt.show()\n",
    "\n",
    "y_equi_temp_k=np.convolve(x_set[-1],equi_temp_k,'valid')\n",
    "TS_temp_k,MI_temp_k=MI(EqualState(x_set[-1][len(equi_temp_k)-1:],8),EqualState(y_equi_temp_k,8),dt,[-1,1])\n",
    "plt.plot(TS_temp_k,MI_temp_k)\n",
    "\n",
    "x_delay_NGD=np.convolve(x_set[-1],kx,'valid')\n",
    "y_NGD,z_NGD=NGD(x_delay_NGD,alpha1,beta1,K1,g1,1)\n",
    "TS_NGD,MI_NGD=MI(EqualState(x_set[-1][len(kx)-1:],8),EqualState(y_NGD,8),dt,[-1,1])\n",
    "plt.plot(TS_NGD,MI_NGD)"
   ]
  },
  {
   "cell_type": "code",
   "execution_count": null,
   "metadata": {},
   "outputs": [],
   "source": [
    "plt.plot(y_equi_temp_k/np.std(y_equi_temp_k))\n",
    "plt.plot(y_NGD[100:]/np.std(y_NGD))\n",
    "plt.xlim()"
   ]
  },
  {
   "cell_type": "code",
   "execution_count": null,
   "metadata": {},
   "outputs": [],
   "source": [
    "# xcorr\n",
    "corr_kernel=np.correlate(x_set[-1][len(equi_temp_k)-1:],y_equi_temp_k,'same')\n",
    "corr1=corr_kernel[int(len(corr_kernel+1)/2)-int(1/dt):int(len(corr_kernel+1)/2)+int(1/dt)]\n",
    "corr1=corr1/max(abs(corr1))\n",
    "\n",
    "corr_NGD=np.correlate(x_set[-1][len(kx)-1:],y_NGD,'same')\n",
    "corr2=corr_NGD[int(len(corr_NGD+1)/2)-int(1/dt):int(len(corr_NGD+1)/2)+int(1/dt)]\n",
    "corr2=corr2/max(abs(corr2))\n",
    "\n",
    "timelag=np.arange(-int(1/dt),int(1/dt))*dt\n",
    "plt.plot(timelag,-corr1)\n",
    "plt.plot(timelag,-corr2)\n",
    "plt.xlim()"
   ]
  },
  {
   "cell_type": "code",
   "execution_count": null,
   "metadata": {
    "scrolled": true
   },
   "outputs": [],
   "source": [
    "print(len(x_set[-1][len(equi_temp_k)-1:]),len(y_equi_temp_k))\n",
    "print(x_set[-1][len(equi_temp_k)-1:],y_equi_temp_k)"
   ]
  },
  {
   "cell_type": "code",
   "execution_count": null,
   "metadata": {},
   "outputs": [],
   "source": [
    "plt.plot(x_set[-1][len(equi_temp_k)-1:])\n",
    "plt.plot(y_equi_temp_k)\n",
    "plt.xlim(10000,12000)"
   ]
  },
  {
   "cell_type": "code",
   "execution_count": null,
   "metadata": {},
   "outputs": [],
   "source": [
    "dt=0.01\n",
    "T=np.arange(dt,300,dt)\n",
    "mu, sigma = 0, 1 # mean and standard deviation\n",
    "xxx = np.random.normal(mu, sigma, len(T))\n",
    "res=np.convolve(xxx,xxx,'same')\n",
    "plt.plot(res)"
   ]
  },
  {
   "cell_type": "code",
   "execution_count": null,
   "metadata": {},
   "outputs": [],
   "source": []
  }
 ],
 "metadata": {
  "kernelspec": {
   "display_name": "Python 3",
   "language": "python",
   "name": "python3"
  },
  "language_info": {
   "codemirror_mode": {
    "name": "ipython",
    "version": 3
   },
   "file_extension": ".py",
   "mimetype": "text/x-python",
   "name": "python",
   "nbconvert_exporter": "python",
   "pygments_lexer": "ipython3",
   "version": "3.7.7"
  }
 },
 "nbformat": 4,
 "nbformat_minor": 2
}
