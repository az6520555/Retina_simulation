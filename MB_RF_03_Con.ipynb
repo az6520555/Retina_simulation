{
 "cells": [
  {
   "cell_type": "markdown",
   "metadata": {},
   "source": [
    "Anticipation of moving stimuli by retina\n",
    "Nature 1999 M. Berry\n",
    "\n",
    "Modeling the response of a ganglion cell with gain control\n",
    "\n",
    "Update History: creation Jan 1, 2018 by CKC\n",
    "\n",
    "Sept 20, 2018 to include spatial part\n",
    "Oct  31, 2018 to have normalized coordinate systems with dx and dt\n",
    "\n"
   ]
  },
  {
   "cell_type": "code",
   "execution_count": 5,
   "metadata": {
    "collapsed": true
   },
   "outputs": [],
   "source": [
    "from scipy import signal\n",
    "import numpy as np\n",
    "import matplotlib.pyplot as plt\n",
    "%matplotlib inline"
   ]
  },
  {
   "cell_type": "code",
   "execution_count": 6,
   "metadata": {
    "collapsed": true
   },
   "outputs": [],
   "source": [
    "# use of two Gussians (one inverted) to approx the receptive field\n",
    "# or spatial filter\n",
    "# parameters are chosen to have min at +1 and -1\n",
    "\n",
    "def k_x(x):\n",
    "    rc = 0.5\n",
    "    rs = 0.65\n",
    "    \n",
    "    kc = 1.3\n",
    "    \n",
    "    ks = 0.9\n",
    "    \n",
    "    a = x*x/2/rc/rc\n",
    "    b = x*x/2/rs/rs\n",
    "    return kc*np.exp(-a) - ks*np.exp(-b)\n"
   ]
  },
  {
   "cell_type": "code",
   "execution_count": 7,
   "metadata": {
    "collapsed": true
   },
   "outputs": [],
   "source": [
    "# generate an array with npts,maxval,minval\n",
    "def arrgen(npts,maxval,minval):\n",
    "    a = np.zeros(npts)\n",
    "    constant = (maxval-minval)/(npts-1)\n",
    "    for i in range(npts):\n",
    "        a[i]= minval + i*constant\n",
    "    return(a)"
   ]
  },
  {
   "cell_type": "code",
   "execution_count": null,
   "metadata": {},
   "outputs": [],
   "source": []
  },
  {
   "cell_type": "code",
   "execution_count": 8,
   "metadata": {
    "collapsed": true
   },
   "outputs": [],
   "source": [
    "def xtoi(x,xnpts,xrange,x_offset): # convert position x into index i\n",
    "    index = ((x-x_offset)/xrange)*xnpts\n",
    "    return int(np.round(index))"
   ]
  },
  {
   "cell_type": "code",
   "execution_count": 9,
   "metadata": {},
   "outputs": [
    {
     "ename": "NameError",
     "evalue": "name 'x' is not defined",
     "output_type": "error",
     "traceback": [
      "\u001b[1;31m---------------------------------------------------------------------------\u001b[0m",
      "\u001b[1;31mNameError\u001b[0m                                 Traceback (most recent call last)",
      "\u001b[1;32m<ipython-input-9-182a97f7fd4b>\u001b[0m in \u001b[0;36m<module>\u001b[1;34m()\u001b[0m\n\u001b[0;32m      5\u001b[0m \u001b[0mgg\u001b[0m \u001b[1;33m=\u001b[0m \u001b[0mnp\u001b[0m\u001b[1;33m.\u001b[0m\u001b[0mzeros\u001b[0m\u001b[1;33m(\u001b[0m\u001b[0mxnpts\u001b[0m\u001b[1;33m)\u001b[0m\u001b[1;33m\u001b[0m\u001b[0m\n\u001b[0;32m      6\u001b[0m \u001b[1;32mfor\u001b[0m \u001b[0mi\u001b[0m \u001b[1;32min\u001b[0m \u001b[0mrange\u001b[0m\u001b[1;33m(\u001b[0m\u001b[0mxnpts\u001b[0m\u001b[1;33m)\u001b[0m\u001b[1;33m:\u001b[0m\u001b[1;33m\u001b[0m\u001b[0m\n\u001b[1;32m----> 7\u001b[1;33m     \u001b[0mgg\u001b[0m\u001b[1;33m[\u001b[0m\u001b[0mi\u001b[0m\u001b[1;33m]\u001b[0m\u001b[1;33m=\u001b[0m\u001b[0mk_x\u001b[0m\u001b[1;33m(\u001b[0m\u001b[0mx\u001b[0m\u001b[1;33m[\u001b[0m\u001b[0mi\u001b[0m\u001b[1;33m]\u001b[0m\u001b[1;33m)\u001b[0m\u001b[1;33m\u001b[0m\u001b[0m\n\u001b[0m\u001b[0;32m      8\u001b[0m \u001b[0mplt\u001b[0m\u001b[1;33m.\u001b[0m\u001b[0mplot\u001b[0m\u001b[1;33m(\u001b[0m\u001b[0mgg\u001b[0m\u001b[1;33m)\u001b[0m\u001b[1;33m\u001b[0m\u001b[0m\n",
      "\u001b[1;31mNameError\u001b[0m: name 'x' is not defined"
     ]
    }
   ],
   "source": [
    "# test of k_x and arrgen ;plot receptive field y = k_x(x)\n",
    "#plt.plot(k_x(x)) # or plt.plot(x,y)\n",
    "#plt.show()\n",
    "\n",
    "gg = np.zeros(xnpts)\n",
    "for i in range(xnpts):\n",
    "    gg[i]=k_x(x[i])\n",
    "plt.plot(gg)  "
   ]
  },
  {
   "cell_type": "code",
   "execution_count": null,
   "metadata": {
    "collapsed": true
   },
   "outputs": [],
   "source": [
    "# square pulse stimulation\n",
    "def s(x,t,width,speed,x0):\n",
    "    val = speed*t + x0 # position of leading edge\n",
    "    if x > val-width and x < val:\n",
    "        return 1.0\n",
    "    else:\n",
    "        return 0.0"
   ]
  },
  {
   "cell_type": "code",
   "execution_count": null,
   "metadata": {
    "collapsed": true
   },
   "outputs": [],
   "source": [
    "# square pulse stimulation\n",
    "def s_d(x,t,width,speed,x0):\n",
    "    val = speed*t + x0 # position of leading edge\n",
    "    if x > val-width and x < val:\n",
    "        return 0.0\n",
    "    else:\n",
    "        return 1.0"
   ]
  },
  {
   "cell_type": "code",
   "execution_count": null,
   "metadata": {},
   "outputs": [],
   "source": [
    "# test of a moving bar s(x,t) (=0 within the bar, =1 otherwise)\n",
    "\n",
    "dx = x[1]-x[0]\n",
    "\n",
    "speed = 0.1\n",
    "width = 1.0\n",
    "x0 = xmin + width\n",
    "\n",
    "y = np.zeros(xnpts)\n",
    "for j in range(10):\n",
    "    t = (j+1)*10\n",
    "    print(t)\n",
    "    for i in range(xnpts):\n",
    "        y[i] =  s_d(x[i],t,width,speed,x0)#dark bar\n",
    "    plt.plot(x,y) # plot the shape of the pulse at time t\n",
    "\n",
    "plt.show()"
   ]
  },
  {
   "cell_type": "code",
   "execution_count": null,
   "metadata": {
    "collapsed": true
   },
   "outputs": [],
   "source": [
    "# modeling biphasic response of ganglion cell\n",
    "# This is an off cell\n",
    "# with a = 20/16.5 b = 0.3 c = 0.008 and t in msec\n",
    "# k_t will be zero after 30 msec\n",
    "\n",
    "def k_t(a,b,c,t):\n",
    "    if t>0:\n",
    "        return -a*np.sin(b*t)*np.exp(-c*t*t)\n",
    "    else:\n",
    "        return 0.0"
   ]
  },
  {
   "cell_type": "code",
   "execution_count": null,
   "metadata": {},
   "outputs": [],
   "source": [
    "# check biphasic response\n",
    "\n",
    "\n",
    "\n",
    "nstep = 100 # time step\n",
    "dt = 1    # 1 msec\n",
    "duration = nstep*dt \n",
    "\n",
    "#Checking biphasic response\n",
    "\n",
    "a = 20/16.5\n",
    "b = 0.3\n",
    "c = 0.008\n",
    "\n",
    "ff = np.zeros(nstep)\n",
    "time = np.zeros(nstep)\n",
    "for i in range(nstep):\n",
    "    t = i*dt\n",
    "    time[i] = t\n",
    "    ff[i] = k_t(a,b,c,time[i])\n",
    "\n",
    "plt.plot(time,ff)\n",
    "plt.show()\n",
    "nstep"
   ]
  },
  {
   "cell_type": "code",
   "execution_count": null,
   "metadata": {
    "collapsed": true
   },
   "outputs": [],
   "source": [
    "# test of spatial convolution first\n",
    "a = 20/16.5\n",
    "b = 0.3\n",
    "c = 0.008\n",
    "\n",
    "\n",
    "t0 = 0.0\n",
    "\n",
    "dt = 1.0\n",
    "speed = 0.5\n",
    "width = 1\n",
    "x_ini=xmin+width\n",
    "\n",
    "u_sc = np.zeros(xnpts)\n",
    "y    = np.zeros(xnpts)\n",
    "for i in range(xnpts):\n",
    "    ssum = 0.0\n",
    "    for j in range(xnpts):\n",
    "        xp = x[j]\n",
    "        ssum = ssum +  s_d(xp,t0,width,speed,x_ini)*k_x(x[i]-xp) #dark bar\n",
    "    u_sc[i] = ssum\n",
    "    y[i] = s(x[i],t0,width,speed,x_ini)    "
   ]
  },
  {
   "cell_type": "code",
   "execution_count": null,
   "metadata": {},
   "outputs": [],
   "source": [
    "f,a = plt.subplots()\n",
    "a.plot(x,u_sc,label='Response')\n",
    "a.plot(x,y,label='Stimulation')\n",
    "#a.set_xlim([-2.5,2.5])\n",
    "a.legend(frameon=False)\n",
    "a.set_ylabel('Activity')\n",
    "a.set_xlabel('Spatial Position')\n",
    "plt.show()"
   ]
  },
  {
   "cell_type": "code",
   "execution_count": null,
   "metadata": {
    "collapsed": true
   },
   "outputs": [],
   "source": [
    "# test of temporal convolution\n",
    "a = 20/16.5\n",
    "b = 0.3\n",
    "c = 0.008\n",
    "\n",
    "x_ini = xmin # starts from the left margin\n",
    "x0 = -5.     # observartion point\n",
    "\n",
    "dt = 1.0\n",
    "speed = 0.1\n",
    "width = 1\n",
    "\n",
    "\n",
    "u_tt = np.zeros(nstep)\n",
    "f = np.zeros(nstep)\n",
    "time = np.zeros(nstep)\n",
    "\n",
    "for i in range(nstep):\n",
    "    t = i*dt\n",
    "    time[i] = t\n",
    "    ssum = 0.0\n",
    "    for j in range(i):\n",
    "        tp = time[j]\n",
    "        ssum = ssum + s_d(x0,tp,width,speed,x_ini)*k_t(a,b,c,time[i]-tp) # dt is not included because it is a constant\n",
    "    u_tt[i] = ssum\n",
    "    y[i] = s(x[i],t0,width,speed,x0)"
   ]
  },
  {
   "cell_type": "code",
   "execution_count": null,
   "metadata": {},
   "outputs": [],
   "source": [
    "f,a = plt.subplots()\n",
    "a.plot(time,u_tt,label='Response')\n",
    "#a.plot(x,y,label='Stimulation')\n",
    "#a.set_xlim([-2.5,2.5])\n",
    "a.legend(frameon=False)\n",
    "a.set_ylabel('Activity')\n",
    "a.set_xlabel('time (ms)')\n",
    "plt.show()"
   ]
  },
  {
   "cell_type": "markdown",
   "metadata": {},
   "source": [
    "## Convolution\n",
    "\n",
    "$ u(x_0,t_0) = g(v)\\int_\\infty^{-\\infty}dx\\int_{-\\infty}^{t_0} S(x',t')k(x_0-x',t_0-t')dt'$\n",
    "\n",
    "\n",
    "$v(t) = \\int_{-\\infty}^t dt' u(t')B e^{{-\\frac{t-t'}{\\tau}}}$"
   ]
  },
  {
   "cell_type": "code",
   "execution_count": null,
   "metadata": {
    "collapsed": true
   },
   "outputs": [],
   "source": [
    "def lowpass(u,npts,t0,B,tau):\n",
    "    v= np.zeros(npts)\n",
    "    for ii in range(npts):\n",
    "        ssum = 0.0\n",
    "        t=int(t0)\n",
    "        for j in range(t):\n",
    "            tp = j\n",
    "            ssum = ssum + u[ii,j]*np.exp(-(t-tp)/tau)*B\n",
    "        v[ii] = ssum   \n",
    "    return v\n",
    "\n",
    "\n",
    "#=========================================================\n",
    "# gain control\n",
    "\n",
    "def gain(vv):\n",
    "    val = 1\n",
    "    if vv>0:\n",
    "        val = 1/(1+vv**4)\n",
    "    return val\n",
    "\n",
    "#=========================================================\n",
    "def F(x,theta):\n",
    "    if x < theta:\n",
    "        return 0\n",
    "    else:\n",
    "        return x"
   ]
  },
  {
   "cell_type": "code",
   "execution_count": null,
   "metadata": {},
   "outputs": [],
   "source": [
    "# convolution with a moving bar: spatial temporal convolution with feedback\n",
    "\n",
    "\n",
    "\n",
    "\n",
    "a = 20/16.5\n",
    "b = 0.3\n",
    "c = 0.008\n",
    "\n",
    "dt = 1.0\n",
    "speed = 0.1\n",
    "width = 1.0\n",
    "\n",
    "x_ini = xmin+width # starts from the left margin\n",
    "\n",
    "xrange = xmax-xmin\n",
    "x_offset = -xrange/2\n",
    "\n",
    "tau= 10\n",
    "B = 0.2\n",
    "\n",
    "time = np.zeros(nstep)\n",
    "g = np.zeros(xnpts)\n",
    "r = np.zeros(xnpts)\n",
    "pf = np.zeros(xnpts)\n",
    "\n",
    "for i in range(xnpts): # initialize all the gain = 1 for every point in x\n",
    "    g[i] = 1.0\n",
    "\n",
    "u   =np.zeros((xnpts,nstep)) # convoluted results for every step\n",
    "ss_d=np.zeros((xnpts,nstep))\n",
    "\n",
    "for j in range(xnpts):\n",
    "    for i in range(nstep):\n",
    "        ss_d[j,i]=s_d(x[j],i,width,speed,x_ini)\n",
    "\n",
    "\n",
    "for i in range(nstep):\n",
    "    print(i)\n",
    "    time[i] = i*dt\n",
    "    t0= time[i]\n",
    "    print(i)\n",
    "    #compute spatial-temporal convolution at t0\n",
    "    for k in range(xnpts):\n",
    "        x0 = x[k]\n",
    "        ssum=0.0 # for every obervation point (x0,t0) compute the convolution\n",
    "        # compute only the needed range for xp and tp from x0 and t0; most of k_t and k_x are zero\n",
    "        \n",
    "        xp_min = x0 - 25\n",
    "        xp_max = x0 + 25\n",
    "        \n",
    "        if xp_min < 0 :\n",
    "            xp_min = xmin\n",
    "        if xp_max > xmax :\n",
    "            xp_max = xmax\n",
    "            \n",
    "        index_xp_min = int(np.round((xp_min-x_offset)/xrange)*xnpts)\n",
    "        index_xp_max = int(np.round((xp_max-x_offset)/xrange)*xnpts)\n",
    "        \n",
    "        tp_min = t0 - 30\n",
    "        if tp_min < 0:\n",
    "            tp_min = 0\n",
    "        index_tp_min = int(np.round(tp_min/dt))\n",
    "            \n",
    "        for l in range(index_xp_min,index_xp_max,1):\n",
    "            xp = x[l]\n",
    "            for j in range(index_tp_min,i,1): # integrate only to t0 = time[i]\n",
    "                tp = time[j]\n",
    "                ssum = ssum +  ss_d[l,j]*ff[i-j]*gg[k-l]\n",
    "                # Dark bar\n",
    "                # dt and dx are not included because they are constant\n",
    "        u[k,i]= g[k]*ssum\n",
    "        \n",
    "    v = lowpass(u,xnpts,t0,B,tau)  # lowpass filtering to get v from u for every point in x\n",
    "    for ii in range(xnpts):\n",
    "        g[ii] = gain(v[ii])         # update the gain for next step\n",
    "        r[ii] = u[ii,i]\n",
    "        pf[ii]= (1.0-s(x[ii],t0,width,speed,x_ini))*2.0\n",
    "    plt.plot(g,'r')\n",
    "    plt.plot(r,'g')\n",
    "    plt.plot(pf,'b')\n",
    "    plt.plot(v,'y')\n",
    "    plt.show()"
   ]
  },
  {
   "cell_type": "code",
   "execution_count": null,
   "metadata": {},
   "outputs": [],
   "source": [
    "dt"
   ]
  },
  {
   "cell_type": "code",
   "execution_count": null,
   "metadata": {},
   "outputs": [],
   "source": [
    "j=10\n",
    "func = np.zeros(xnpts)\n",
    "for i in range(xnpts):\n",
    "    func[i] = u[i,j]\n",
    "plt.plot(func)\n",
    "\n",
    "plt.show()"
   ]
  },
  {
   "cell_type": "code",
   "execution_count": null,
   "metadata": {
    "collapsed": true
   },
   "outputs": [],
   "source": []
  },
  {
   "cell_type": "code",
   "execution_count": null,
   "metadata": {},
   "outputs": [],
   "source": [
    "t0=199\n",
    "pf = np.zeros(xnpts)\n",
    "r_out = np.zeros(xnpts)\n",
    "for i in range(xnpts):\n",
    "    pf[i]= s(x[i],t0,width,speed,x_ini)\n",
    "    r_out[i] = u[i,t0]\n",
    "plt.plot(g,'r')\n",
    "plt.plot(r_out,'b')\n",
    "plt.plot(pf,'g')\n",
    "plt.show()"
   ]
  },
  {
   "cell_type": "code",
   "execution_count": null,
   "metadata": {
    "collapsed": true
   },
   "outputs": [],
   "source": []
  },
  {
   "cell_type": "code",
   "execution_count": null,
   "metadata": {
    "collapsed": true
   },
   "outputs": [],
   "source": []
  }
 ],
 "metadata": {
  "anaconda-cloud": {},
  "kernelspec": {
   "display_name": "Python 3",
   "language": "python",
   "name": "python3"
  },
  "language_info": {
   "codemirror_mode": {
    "name": "ipython",
    "version": 3
   },
   "file_extension": ".py",
   "mimetype": "text/x-python",
   "name": "python",
   "nbconvert_exporter": "python",
   "pygments_lexer": "ipython3",
   "version": "3.7.4"
  }
 },
 "nbformat": 4,
 "nbformat_minor": 2
}
