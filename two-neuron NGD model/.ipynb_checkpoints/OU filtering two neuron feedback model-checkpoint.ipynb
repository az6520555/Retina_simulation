{
 "cells": [
  {
   "cell_type": "code",
   "execution_count": null,
   "metadata": {},
   "outputs": [],
   "source": [
    "import numpy as np\n",
    "import matplotlib.pyplot as plt\n",
    "import math\n",
    "from scipy import signal\n",
    "from scipy.fftpack import fft\n",
    "from scipy.io import loadmat\n",
    "%matplotlib inline"
   ]
  },
  {
   "cell_type": "code",
   "execution_count": null,
   "metadata": {},
   "outputs": [],
   "source": [
    "# OU\n",
    "Tot=300\n",
    "dt=0.01\n",
    "T=np.arange(dt,Tot,dt)\n",
    "tau=0.1\n",
    "D = 4\n",
    "L=np.zeros(len(T))\n",
    "mu, sigma = 0, 1\n",
    "for i in range(len(T)-1):\n",
    "    L[i+1]=L[i]*(1-dt/tau)+math.sqrt(D*dt)*np.random.normal(mu,sigma)"
   ]
  },
  {
   "cell_type": "code",
   "execution_count": null,
   "metadata": {},
   "outputs": [],
   "source": [
    "# filtering\n",
    "fc=[10,7,4,2]\n",
    "x_set=[L]\n",
    "for ifc in range(len(fc)):\n",
    "    b, a = signal.butter(2, 2*fc[ifc]*dt, btype='low', analog=False)\n",
    "    Lf = signal.filtfilt(b, a, L)\n",
    "    x_set.append(Lf)"
   ]
  },
  {
   "cell_type": "code",
   "execution_count": null,
   "metadata": {},
   "outputs": [],
   "source": [
    "for i in range(np.size(x_set,0)):\n",
    "    plt.plot(T,x_set[i])\n",
    "plt.xlim(150,160)"
   ]
  },
  {
   "cell_type": "code",
   "execution_count": null,
   "metadata": {},
   "outputs": [],
   "source": [
    "#FFT\n",
    "for nset in range(np.size(x_set,0)):\n",
    "    Ts=dt\n",
    "    xft=fft(x_set[nset])\n",
    "    xftreal = xft.real  \n",
    "    xftimg = xft.imag\n",
    "    xft_abs=abs(xft)\n",
    "    xft_nor=xft_abs/len(xft_abs)\n",
    "    xft_nor2=xft_nor[range(int(len(xft_nor)/2))]\n",
    "    \n",
    "    f = np.arange(len(xft))\n",
    "    f2 = f[range(int(len(xft)/2))]\n",
    "    f2=f2*Ts\n",
    "    plt.plot(f2,xft_nor2)\n",
    "    plt.xlim(0,5)"
   ]
  },
  {
   "cell_type": "code",
   "execution_count": null,
   "metadata": {},
   "outputs": [],
   "source": [
    "y_set=[]\n",
    "z_set=[]\n",
    "for i in range(np.size(x_set,0)):\n",
    "    x=x_set[i]\n",
    "\n",
    "    alpha = 20\n",
    "    beta =  1\n",
    "    K = 20\n",
    "    g = 10\n",
    "    y=np.zeros(len(T))\n",
    "    z=np.zeros(len(T))\n",
    "    for j in range(len(T)-1):\n",
    "        dy=dt*(-alpha*y[j]+K*(x[j]-z[j]))\n",
    "        dz=dt*(-beta*z[j]+g*y[j])\n",
    "        y[j+1]=y[j]+dy\n",
    "        z[j+1]=z[j]+dz\n",
    "    y_set.append(y)\n",
    "    z_set.append(z)"
   ]
  },
  {
   "cell_type": "code",
   "execution_count": null,
   "metadata": {},
   "outputs": [],
   "source": [
    "# same scale\n",
    "for i in range(np.size(x_set,0)):\n",
    "    x_set[i]=x_set[i]/np.std(x_set[i])\n",
    "    y_set[i]=y_set[i]/np.std(y_set[i])\n",
    "    z_set[i]=z_set[i]/np.std(z_set[i])"
   ]
  },
  {
   "cell_type": "code",
   "execution_count": null,
   "metadata": {},
   "outputs": [],
   "source": [
    "for i in range(np.size(x_set,0)):\n",
    "    plt.plot(T,x_set[i])\n",
    "    plt.plot(T,y_set[i])\n",
    "    plt.plot(T,z_set[i])\n",
    "    plt.xlim(160,165)\n",
    "    plt.legend(('x','y','z'))\n",
    "    plt.show()"
   ]
  },
  {
   "cell_type": "code",
   "execution_count": null,
   "metadata": {},
   "outputs": [],
   "source": [
    "# assign data to different state\n",
    "# state number should be even\n",
    "nx=8\n",
    "ny=8\n",
    "\n",
    "xstate_set=[]\n",
    "ystate_set=[]\n",
    "for nset in range(np.size(x_set,0)):\n",
    "# states of input\n",
    "    xs=x_set[nset]\n",
    "    xs=np.sort(xs)\n",
    "    xstatestep=len(xs)/nx\n",
    "    xinterval=[0]\n",
    "    for i in range(int(nx/2-1)):\n",
    "        xinterval=np.append(xinterval,xs[round(len(xs)/2)+(i+1)*round(xstatestep)])\n",
    "    xinterval=np.append(xinterval,float('inf'))\n",
    "    for j in range(int(nx/2-1)):\n",
    "        xinterval=np.append(xs[round(len(xs)/2)-(j+1)*round(xstatestep)],xinterval)\n",
    "    xinterval=np.append(float('-inf'),xinterval)\n",
    "    xstate=np.zeros(len(x_set[nset]))\n",
    "    for i in range(len(x_set[nset])):\n",
    "        tempinterval=[]\n",
    "        state=[]\n",
    "        tempinterval=np.array(xinterval)\n",
    "        tempinterval=np.append(tempinterval,x_set[nset][i])\n",
    "        tempinterval=np.sort(tempinterval)\n",
    "        state=np.where(tempinterval==x_set[nset][i])\n",
    "        xstate[i]=state[0][0]\n",
    "    xstate = xstate.astype(int)\n",
    "\n",
    "    # states of output\n",
    "    ys=np.sort(y_set[nset])\n",
    "    ystatestep=len(ys)/ny\n",
    "    yinterval=[0]\n",
    "    for i in range(int(ny/2-1)):\n",
    "        yinterval=np.append(yinterval,ys[round(len(ys)/2)+(i+1)*round(ystatestep)])\n",
    "    yinterval=np.append(yinterval,float('inf'))\n",
    "    for j in range(int(ny/2-1)):\n",
    "        yinterval=np.append(ys[round(len(ys)/2)-(j+1)*round(ystatestep)],yinterval)\n",
    "    yinterval=np.append(float('-inf'),yinterval)\n",
    "    ystate=np.zeros(len(y_set[nset]))\n",
    "    for i in range(len(y_set[nset])):\n",
    "        tempinterval=[]\n",
    "        state=[]\n",
    "        tempinterval=np.array(yinterval)\n",
    "        tempinterval=np.append(tempinterval,y_set[nset][i])\n",
    "        tempinterval=np.sort(tempinterval)\n",
    "        state=np.where(tempinterval==y_set[nset][i])\n",
    "        ystate[i]=state[0][0]\n",
    "    ystate = ystate.astype(int)\n",
    "    \n",
    "    xstate_set.append(xstate)\n",
    "    ystate_set.append(ystate)\n",
    "    "
   ]
  },
  {
   "cell_type": "code",
   "execution_count": null,
   "metadata": {},
   "outputs": [],
   "source": [
    "# for i in range(np.size(x_set,0)):\n",
    "#     plt.plot(T,xstate_set[i])\n",
    "#     plt.plot(T,ystate_set[i])\n",
    "#     plt.xlim(100,120)\n",
    "#     plt.show()"
   ]
  },
  {
   "cell_type": "code",
   "execution_count": null,
   "metadata": {},
   "outputs": [],
   "source": [
    "# MI calculation\n",
    "MI_set=[]\n",
    "for k in range(np.size(x_set,0)):\n",
    "    xstate=x_set[k]\n",
    "    ystate=y_set[k]\n",
    "    \n",
    "    negshift=-1 # second\n",
    "    posshift=1 # second\n",
    "    shiftdu=dt # second\n",
    "    shiftlen=(posshift-negshift)/dt+1\n",
    "    timeshift=np.linspace(negshift,posshift,int(shiftlen))\n",
    "    bitshift=np.linspace(negshift/dt,posshift/dt,int(shiftlen))\n",
    "    xedges=[]\n",
    "    yedges=[]\n",
    "    xs=np.sort(xstate)\n",
    "    ys=np.sort(ystate)\n",
    "    for ii in range(nx):\n",
    "        ind=int((ii)*len(xstate)/nx)\n",
    "        xedges.append(xs[ind])\n",
    "        yedges.append(ys[ind])\n",
    "    xedges.append(xs[-1])\n",
    "    yedges.append(ys[-1])\n",
    "\n",
    "    # shifted data\n",
    "    # shift>0 => y shifted to positive side\n",
    "    MI=np.zeros(len(bitshift))\n",
    "    for i in range(len(bitshift)):\n",
    "        xx=[]\n",
    "        yy=[]\n",
    "        shift=int(bitshift[i])\n",
    "        if shift>0:\n",
    "            xx=xstate[shift:]\n",
    "            yy=ystate[:-shift]\n",
    "        elif shift==0:\n",
    "            xx=xstate\n",
    "            yy=ystate\n",
    "        elif shift<0:\n",
    "            xx=xstate[:shift]\n",
    "            yy=ystate[-shift:]\n",
    "\n",
    "        H, xedges, yedges = np.histogram2d(xx, yy, bins=(xedges, yedges))\n",
    "        statesum=np.sum(H)\n",
    "        px_list=np.sum(H,axis=1)/statesum\n",
    "        py_list=np.sum(H,axis=0)/statesum\n",
    "        pxy_list=H/statesum\n",
    "\n",
    "        MIsingle=np.zeros((len(px_list),len(py_list)))\n",
    "        for ix in range(len(px_list)):\n",
    "            for iy in range(len(py_list)):\n",
    "                if pxy_list[ix][iy]==0:\n",
    "                    MIsingle[ix][iy]=0\n",
    "                else:\n",
    "                    MIsingle[ix][iy]=pxy_list[ix][iy]*math.log2(pxy_list[ix][iy]/px_list[ix]/py_list[iy])\n",
    "        MI[i]=np.sum(MIsingle)\n",
    "        \n",
    "    MI_set.append(MI)\n",
    "    "
   ]
  },
  {
   "cell_type": "code",
   "execution_count": null,
   "metadata": {},
   "outputs": [],
   "source": [
    "for i in range(np.size(x_set,0)):\n",
    "    colorlist=['#1f77b4','#ff7f0e','#d62728','#9467bd','#2ca02c']\n",
    "    plt.plot(timeshift*1000,MI_set[i],color=colorlist[i]) \n",
    "    plt.xlim()\n",
    "    plt.legend(('original','10hz','7hz','4hz','2hz'))\n",
    "    plt.xlabel('TimeShift (ms)')\n",
    "    plt.ylabel('MI (Arbitrary Unit)')\n",
    "    plt.grid()"
   ]
  },
  {
   "cell_type": "code",
   "execution_count": null,
   "metadata": {},
   "outputs": [],
   "source": [
    "path='F:/我的雲端硬碟/Retina exp/exp data/Sorted_final_data/20200408/MIdata/'\n",
    "file=['20200408_OU_original_tau=0p5_sort_unit2_MI.mat','20200408_OU_cutoff=10_sort_unit2_MI.mat',\\\n",
    "      '20200408_OU_cutoff=7_sort_unit2_MI.mat','20200408_OU_cutoff=4_sort_unit2_MI.mat',\\\n",
    "     '20200408_OU_cutoff=2_sort_unit2_MI.mat']\n",
    "MIlist=[[] for n in range(5)]\n",
    "expdata=[0 for n in range(5)]\n",
    "for i in range(5):\n",
    "    expdata=loadmat(path+file[i])\n",
    "    MI=expdata['MI']\n",
    "    TS=expdata['TimeShift']\n",
    "    TS=TS[0]\n",
    "    MIlist[i]=MI[0][52][0]"
   ]
  },
  {
   "cell_type": "code",
   "execution_count": null,
   "metadata": {},
   "outputs": [],
   "source": [
    "for i in range(5):\n",
    "    colorlist=['#1f77b4','#ff7f0e','#d62728','#9467bd','#2ca02c']\n",
    "    plt.plot(TS,MIlist[i],color=colorlist[i]) \n",
    "    plt.legend(('original','10hz','7hz','4hz','2hz'))\n",
    "    plt.xlabel('TimeShift (s)')\n",
    "    plt.ylabel('MI (bits/s)')\n",
    "    plt.grid()"
   ]
  },
  {
   "cell_type": "code",
   "execution_count": null,
   "metadata": {},
   "outputs": [],
   "source": [
    "# find MI peak positions\n",
    "# simulation\n",
    "TSpeak_exp=np.zeros(len(MI_set))\n",
    "TSpeak_sim=np.zeros(len(MI_set))\n",
    "for i in range(len(MI_set)):\n",
    "    loc=np.argmax(MI_set[i])\n",
    "    TSpeak_exp[i]=timeshift[loc]*1000\n",
    "    loc2=np.argmax(MIlist[i])\n",
    "    TSpeak_sim[i]=TS[loc2]"
   ]
  },
  {
   "cell_type": "code",
   "execution_count": null,
   "metadata": {},
   "outputs": [],
   "source": [
    "fc=np.array([float('inf'),10,7,4,2])\n",
    "plt.plot(fc,TSpeak_exp,'o')\n",
    "plt.plot(fc,TSpeak_sim,'o')\n",
    "plt.grid(axis='y')\n",
    "plt.ylabel('TimeShift (ms)')\n",
    "plt.xlabel('cut-off frequency (hz)')\n",
    "plt.legend(('Sim.','Exp.'))"
   ]
  },
  {
   "cell_type": "code",
   "execution_count": null,
   "metadata": {},
   "outputs": [],
   "source": [
    "t=np.linspace(0,10,1000)\n",
    "dt=t[1]-t[0]\n",
    "s=np.sin(20*t)\n",
    "q=np.zeros(1000)\n",
    "for i in range(len(s)-1):\n",
    "    dq=dt*(-q[i]+s[i])\n",
    "    q[i+1]=q[i]+dq\n",
    "plt.plot(s)\n",
    "plt.plot(q)\n",
    "plt.xlim(0,300)"
   ]
  }
 ],
 "metadata": {
  "kernelspec": {
   "display_name": "Python 3",
   "language": "python",
   "name": "python3"
  },
  "language_info": {
   "codemirror_mode": {
    "name": "ipython",
    "version": 3
   },
   "file_extension": ".py",
   "mimetype": "text/x-python",
   "name": "python",
   "nbconvert_exporter": "python",
   "pygments_lexer": "ipython3",
   "version": "3.7.7"
  }
 },
 "nbformat": 4,
 "nbformat_minor": 2
}
