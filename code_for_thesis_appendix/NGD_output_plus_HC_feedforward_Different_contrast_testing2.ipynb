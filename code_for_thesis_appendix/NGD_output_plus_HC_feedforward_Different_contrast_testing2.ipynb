{
 "cells": [
  {
   "cell_type": "code",
   "execution_count": 3,
   "metadata": {
    "ExecuteTime": {
     "end_time": "2021-12-30T15:18:37.535163Z",
     "start_time": "2021-12-30T15:18:36.601629Z"
    }
   },
   "outputs": [],
   "source": [
    "import numpy as np\n",
    "import matplotlib.pyplot as plt\n",
    "import math\n",
    "from scipy import signal\n",
    "from scipy.fftpack import fft, fftfreq\n",
    "from scipy.io import loadmat\n",
    "import xlsxwriter \n",
    "import import_ipynb\n",
    "import random\n",
    "from NGDfunc import MI,xcorr_quick,NGD,poisson,EqualState,OU\n",
    "# the function file should be put in the same directory as this main file"
   ]
  },
  {
   "cell_type": "markdown",
   "metadata": {},
   "source": [
    "## Load data / find cross-correlation of ganglion cell output"
   ]
  },
  {
   "cell_type": "code",
   "execution_count": null,
   "metadata": {
    "ExecuteTime": {
     "end_time": "2021-12-30T14:55:32.022452Z",
     "start_time": "2021-12-30T14:55:31.662235Z"
    }
   },
   "outputs": [],
   "source": [
    "# generate LPOU stimuli in different contrast\n",
    "dt=0.01\n",
    "tau_ou=0.5\n",
    "fc=1\n",
    "T_ou=300\n",
    "nsteps_ou=int(T_ou/dt)\n",
    "mid_pos=500\n",
    "randseed = np.random.normal(0, 50, nsteps_ou)\n",
    "time_ou,x_ou=NGDfunc.OU(T_ou,tau_ou,'no',dt,randseed)\n",
    "time_ou,x_lpou=NGDfunc.OU(T_ou,tau_ou,fc,dt,randseed)\n",
    "\n",
    "amp=[0.5,1,2,3]\n",
    "mean=10\n",
    "x_set=[]\n",
    "f_ou,ax_ou=plt.subplots(figsize=(15,5))\n",
    "for i in range(len(amp)):\n",
    "    x_set.append(x_lpou/np.std(x_lpou)*amp[i]+mean)\n",
    "    ax_ou.plot(x_set[i])"
   ]
  },
  {
   "cell_type": "code",
   "execution_count": null,
   "metadata": {
    "ExecuteTime": {
     "end_time": "2021-07-29T17:26:56.862305Z",
     "start_time": "2021-07-29T17:26:56.855325Z"
    }
   },
   "outputs": [],
   "source": []
  },
  {
   "cell_type": "markdown",
   "metadata": {},
   "source": [
    "## NGD model output"
   ]
  },
  {
   "cell_type": "code",
   "execution_count": null,
   "metadata": {
    "ExecuteTime": {
     "end_time": "2021-12-30T14:55:32.863407Z",
     "start_time": "2021-12-30T14:55:32.024156Z"
    }
   },
   "outputs": [],
   "source": [
    "# generate outputs of NGD model\n",
    "alpha,beta,K,g=6,1.6,22,10 # parameters in NGD model\n",
    "y_set=[NGDfunc.NGD(x_set[j],dt,alpha,beta,K,g,1)[0] for j in range(np.size(x_set,0))] \n",
    "z_set=[NGDfunc.NGD(x_set[j],dt,alpha,beta,K,g,1)[1] for j in range(np.size(x_set,0))] "
   ]
  },
  {
   "cell_type": "code",
   "execution_count": null,
   "metadata": {
    "ExecuteTime": {
     "end_time": "2021-12-30T14:55:32.878884Z",
     "start_time": "2021-12-30T14:55:32.865402Z"
    },
    "scrolled": false
   },
   "outputs": [],
   "source": [
    "# f_yz=plt.figure(figsize=(15,10))\n",
    "# ax_y=f_yz.add_subplot(211)\n",
    "# for i in range(4):\n",
    "#     ax_y.plot(y_set[i])\n",
    "# ax_y.set_ylim(-1,4)\n",
    "# ax_y.set_xlim()\n",
    "# ax_y.set_title('y(t)')\n",
    "# ax_z=f_yz.add_subplot(212)\n",
    "# for i in range(4):\n",
    "#     ax_z.plot(z_set[i])\n",
    "# ax_z.set_title('z(t)')"
   ]
  },
  {
   "cell_type": "markdown",
   "metadata": {},
   "source": [
    "## summing the horizontal feedforward to NGD model output "
   ]
  },
  {
   "cell_type": "markdown",
   "metadata": {},
   "source": [
    "### MI and cross correlation of B"
   ]
  },
  {
   "cell_type": "code",
   "execution_count": null,
   "metadata": {
    "ExecuteTime": {
     "end_time": "2021-12-30T14:55:36.700511Z",
     "start_time": "2021-12-30T14:55:32.880601Z"
    }
   },
   "outputs": [],
   "source": [
    "# generate output u(t) after summing y and z\n",
    "psi_set=np.array([0.03,0.05,0.1,0.14,0.17,0.2,0.23]) # consider different weightings between y and z\n",
    "print(psi_set)\n",
    "iamp=3\n",
    "x=x_set[iamp]\n",
    "y=y_set[iamp]\n",
    "z=z_set[iamp]\n",
    "B=[(1-psi_set[k])*y-psi_set[k]*z for k in range(len(psi_set))] # u(t) \n",
    "MIxyz=[[] for i in range(len(B))]\n",
    "corrxyz=[[] for i in range(len(B))]\n",
    "for k in range(len(B)):\n",
    "    tsxyz,MIxyz[k]=NGDfunc.MI(NGDfunc.EqualState(x,8),NGDfunc.EqualState(B[k],8),dt,[-2,2])\n",
    "    tc,corrxyz[k]=NGDfunc.xcorr_quick(x,B[k],[5,5],0.01)\n",
    "# color2=['k','r']\n",
    "fuout,axuout=plt.subplots()\n",
    "for i in range(len(B)):\n",
    "    axuout.plot(tsxyz,MIxyz[i],label=r'$\\psi$='+str(round(psi_set[i],3)))\n",
    "axuout.legend()\n",
    "axuout.set_xlim(-1,1)\n",
    "axuout.set_ylabel(r'$MI[x(t),u(t-\\delta t)]$ (bits/s)')\n",
    "axuout.set_xlabel('$\\delta t$ (s)')\n",
    "axuout.axvline(x=0,c='k',linewidth=0.5,linestyle='dashed')\n",
    "axuout.set_title('MI of x(t) and u(t)')"
   ]
  },
  {
   "cell_type": "code",
   "execution_count": null,
   "metadata": {
    "ExecuteTime": {
     "end_time": "2021-12-30T14:55:36.715471Z",
     "start_time": "2021-12-30T14:55:36.703503Z"
    }
   },
   "outputs": [],
   "source": [
    "# fB,axB=plt.subplots(figsize=(15,5))\n",
    "# for i in range(len(B)):\n",
    "#     axB.plot(B[i],label=r'$\\psi$='+str(round(psi_set[i],3)))\n",
    "# axB.set_ylim(-5,5)"
   ]
  },
  {
   "cell_type": "code",
   "execution_count": null,
   "metadata": {
    "ExecuteTime": {
     "end_time": "2021-12-30T14:55:40.159672Z",
     "start_time": "2021-12-30T14:55:36.719461Z"
    }
   },
   "outputs": [],
   "source": [
    "# NGDFF retinal circuit with different weightings psi\n",
    "f_onoff_psi=plt.figure(figsize=(15,5))\n",
    "axon=f_onoff_psi.add_subplot(121)\n",
    "axoff=f_onoff_psi.add_subplot(122)\n",
    "for i in range(len(psi_set)):\n",
    "    spike_psi=poisson(B[i],0,0,dt)\n",
    "    tl,MI_psi=MI(EqualState(x,8),spike_psi,dt,[-1,1])\n",
    "    axon.plot(tl,MI_psi,label=r'$\\psi$='+str(round(psi_set[i],3)))\n",
    "axon.legend()\n",
    "axon.set_title('NGDFF retinal circuit with k=0 (on cell)')\n",
    "axon.set_xlim(-1,1)\n",
    "axon.set_ylabel('MI (bit/s)')\n",
    "axon.set_xlabel(r'$\\delta t$ (s)')\n",
    "\n",
    "for i in range(len(psi_set)):\n",
    "    spike_psi=poisson(B[i],0,1,dt)\n",
    "    tl,MI_psi=MI(EqualState(x,8),spike_psi,dt,[-1,1])\n",
    "    axoff.plot(tl,MI_psi,label=r'$\\psi$='+str(round(psi_set[i],3)))\n",
    "axoff.legend()\n",
    "axoff.set_title('NGDFF retinal circuit with k=1 (off cell)')\n",
    "axoff.set_xlim(-1,1)\n",
    "axoff.set_ylabel('MI (bit/s)')\n",
    "axoff.set_xlabel(r'$\\delta t$ (s)')"
   ]
  },
  {
   "cell_type": "code",
   "execution_count": null,
   "metadata": {
    "ExecuteTime": {
     "end_time": "2021-12-30T14:59:04.988849Z",
     "start_time": "2021-12-30T14:59:04.970890Z"
    }
   },
   "outputs": [],
   "source": [
    "# generate u(t) with different stimuli\n",
    "B_set=[0 for k in range(len(x_set))] # u(t)\n",
    "for i in range(len(x_set)):\n",
    "    B_set[i]=y_set[i]*0.87-z_set[i]*0.13"
   ]
  },
  {
   "cell_type": "code",
   "execution_count": null,
   "metadata": {
    "ExecuteTime": {
     "end_time": "2021-12-30T14:57:27.174132Z",
     "start_time": "2021-12-30T14:57:22.886890Z"
    }
   },
   "outputs": [],
   "source": [
    "# NGDFF retinal circuit with different stimulus contrasts\n",
    "spike_on=[0 for i in range(len(x_set))]\n",
    "spike_off=[0 for i in range(len(x_set))]\n",
    "th=0\n",
    "f_NGDFF_cst=plt.figure(figsize=(15,5))\n",
    "ax2=f_NGDFF_cst.add_subplot(121)\n",
    "ax3=f_NGDFF_cst.add_subplot(122)\n",
    "for j in range(len(x_set)):\n",
    "    spike_on=poisson(B_set[j],th,0,0.01)\n",
    "    spike_off=poisson(B_set[j],th,1,0.01)\n",
    "    tl,MI_spike_on=MI(EqualState(x_set[j],8),spike_on,dt,[-2,2])\n",
    "    tl,MI_spike_off=MI(EqualState(x_set[j],8),spike_off,dt,[-2,2])\n",
    "    ax2.plot(tl,MI_spike_on,label='C='+str(amp[j]))\n",
    "    ax3.plot(tl,MI_spike_off,label='C='+str(amp[j]))\n",
    "ax2.set_xlim(-1,1)\n",
    "ax3.set_xlim(-1,1)\n",
    "ax2.set_title('NGDFF retinal circuit with k=0 (on cell)')  \n",
    "ax3.set_title('NGDFF retinal circuit with k=1 (off cell)')\n",
    "ax2.legend()\n",
    "ax3.legend()\n",
    "ax2.set_ylabel('MI (bit/s)')\n",
    "ax3.set_ylabel('MI (bit/s)')\n",
    "ax2.set_xlabel(r'$\\delta t$ (s)')\n",
    "ax3.set_xlabel(r'$\\delta t$ (s)')"
   ]
  },
  {
   "cell_type": "code",
   "execution_count": null,
   "metadata": {
    "ExecuteTime": {
     "end_time": "2021-12-30T14:55:40.655891Z",
     "start_time": "2021-12-30T14:55:30.212Z"
    }
   },
   "outputs": [],
   "source": [
    "plt.show()"
   ]
  },
  {
   "cell_type": "code",
   "execution_count": null,
   "metadata": {
    "ExecuteTime": {
     "end_time": "2021-12-30T14:17:18.818400Z",
     "start_time": "2021-12-30T14:17:18.686714Z"
    }
   },
   "outputs": [],
   "source": []
  }
 ],
 "metadata": {
  "kernelspec": {
   "display_name": "Python 3",
   "language": "python",
   "name": "python3"
  },
  "language_info": {
   "codemirror_mode": {
    "name": "ipython",
    "version": 3
   },
   "file_extension": ".py",
   "mimetype": "text/x-python",
   "name": "python",
   "nbconvert_exporter": "python",
   "pygments_lexer": "ipython3",
   "version": "3.7.4"
  },
  "toc": {
   "base_numbering": 1,
   "nav_menu": {},
   "number_sections": true,
   "sideBar": true,
   "skip_h1_title": false,
   "title_cell": "Table of Contents",
   "title_sidebar": "Contents",
   "toc_cell": false,
   "toc_position": {
    "height": "calc(100% - 180px)",
    "left": "10px",
    "top": "150px",
    "width": "284px"
   },
   "toc_section_display": true,
   "toc_window_display": false
  },
  "varInspector": {
   "cols": {
    "lenName": 16,
    "lenType": 16,
    "lenVar": 40
   },
   "kernels_config": {
    "python": {
     "delete_cmd_postfix": "",
     "delete_cmd_prefix": "del ",
     "library": "var_list.py",
     "varRefreshCmd": "print(var_dic_list())"
    },
    "r": {
     "delete_cmd_postfix": ") ",
     "delete_cmd_prefix": "rm(",
     "library": "var_list.r",
     "varRefreshCmd": "cat(var_dic_list()) "
    }
   },
   "oldHeight": 362.7,
   "position": {
    "height": "40px",
    "left": "1002.39px",
    "right": "20px",
    "top": "80px",
    "width": "491px"
   },
   "types_to_exclude": [
    "module",
    "function",
    "builtin_function_or_method",
    "instance",
    "_Feature"
   ],
   "varInspector_section_display": "none",
   "window_display": true
  }
 },
 "nbformat": 4,
 "nbformat_minor": 4
}
