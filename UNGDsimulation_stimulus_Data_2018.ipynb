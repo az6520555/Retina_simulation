{
 "cells": [
  {
   "cell_type": "code",
   "execution_count": 2,
   "metadata": {
    "scrolled": false
   },
   "outputs": [],
   "source": [
    "import numpy as np\n",
    "import matplotlib.pyplot as plt\n",
    "import math \n",
    "from PyAstronomy import pyasl\n",
    "from scipy import signal\n",
    "%matplotlib inline"
   ]
  },
  {
   "cell_type": "code",
   "execution_count": 3,
   "metadata": {
    "scrolled": true
   },
   "outputs": [],
   "source": [
    "# # HMM input\n",
    "# for ipara in range(len(para)):\n",
    "#     paramter=para[ipara]    \n",
    "    \n",
    "#     Tot=300\n",
    "#     dt=0.01\n",
    "#     T=np.arange(dt,Tot,dt)\n",
    "#     G = paramter\n",
    "#     w = G/(2*1.06)\n",
    "#     D=4\n",
    "#     L=np.zeros(len(T))\n",
    "#     V=np.zeros(len(T))\n",
    "#     mu, sigma = 0, 1\n",
    "#     for i in range(len(T)-1):\n",
    "#         L[i+1]=L[i]+V[i]*dt\n",
    "#         V[i+1]=(1-G*dt)*V[i]-w**2*L[i]*dt+math.sqrt(D*dt)*np.random.normal(mu, sigma)\n",
    "#     plt.plot(T,L)"
   ]
  },
  {
   "cell_type": "code",
   "execution_count": 4,
   "metadata": {},
   "outputs": [],
   "source": [
    "# # OU\n",
    "# Tot=300\n",
    "# dt=0.01\n",
    "# T=np.arange(dt,Tot,dt)\n",
    "# tau=0.5\n",
    "# D = 4\n",
    "# L=np.zeros(len(T))\n",
    "# mu, sigma = 0, 1\n",
    "# for i in range(len(T)-1):\n",
    "#     L[i+1]=L[i]*(1-dt/tau)+math.sqrt(D*dt)*np.random.normal(mu,sigma)"
   ]
  },
  {
   "cell_type": "code",
   "execution_count": 5,
   "metadata": {},
   "outputs": [
    {
     "ename": "NameError",
     "evalue": "name 'sio' is not defined",
     "output_type": "error",
     "traceback": [
      "\u001b[1;31m---------------------------------------------------------------------------\u001b[0m",
      "\u001b[1;31mNameError\u001b[0m                                 Traceback (most recent call last)",
      "\u001b[1;32m<ipython-input-5-e7e20ffdbf61>\u001b[0m in \u001b[0;36m<module>\u001b[1;34m\u001b[0m\n\u001b[1;32m----> 1\u001b[1;33m \u001b[0mmat_contents\u001b[0m\u001b[1;33m=\u001b[0m\u001b[0msio\u001b[0m\u001b[1;33m.\u001b[0m\u001b[0mloadmat\u001b[0m\u001b[1;33m(\u001b[0m\u001b[0mmat_fname\u001b[0m\u001b[1;33m)\u001b[0m\u001b[1;33m\u001b[0m\u001b[1;33m\u001b[0m\u001b[0m\n\u001b[0m\u001b[0;32m      2\u001b[0m \u001b[0mSpikes\u001b[0m \u001b[1;33m=\u001b[0m \u001b[0mmat_contents\u001b[0m\u001b[1;33m[\u001b[0m\u001b[1;34m'Spikes'\u001b[0m\u001b[1;33m]\u001b[0m\u001b[1;33m\u001b[0m\u001b[1;33m\u001b[0m\u001b[0m\n\u001b[0;32m      3\u001b[0m \u001b[0ma_data\u001b[0m \u001b[1;33m=\u001b[0m \u001b[0mmat_contents\u001b[0m\u001b[1;33m[\u001b[0m\u001b[1;34m'a_data'\u001b[0m\u001b[1;33m]\u001b[0m\u001b[1;33m\u001b[0m\u001b[1;33m\u001b[0m\u001b[0m\n\u001b[0;32m      4\u001b[0m \u001b[0mTimeStamps\u001b[0m \u001b[1;33m=\u001b[0m \u001b[0mmat_contents\u001b[0m\u001b[1;33m[\u001b[0m\u001b[1;34m'TimeStamps'\u001b[0m\u001b[1;33m]\u001b[0m\u001b[1;33m\u001b[0m\u001b[1;33m\u001b[0m\u001b[0m\n",
      "\u001b[1;31mNameError\u001b[0m: name 'sio' is not defined"
     ]
    }
   ],
   "source": [
    "mat_contents=sio.loadmat(mat_fname)\n",
    "Spikes = mat_contents['Spikes']\n",
    "a_data = mat_contents['a_data']\n",
    "TimeStamps = mat_contents['TimeStamps']"
   ]
  },
  {
   "cell_type": "code",
   "execution_count": 6,
   "metadata": {},
   "outputs": [
    {
     "ename": "NameError",
     "evalue": "name 'dt' is not defined",
     "output_type": "error",
     "traceback": [
      "\u001b[1;31m---------------------------------------------------------------------------\u001b[0m",
      "\u001b[1;31mNameError\u001b[0m                                 Traceback (most recent call last)",
      "\u001b[1;32m<ipython-input-6-592c93569741>\u001b[0m in \u001b[0;36m<module>\u001b[1;34m\u001b[0m\n\u001b[0;32m      1\u001b[0m \u001b[0mfc\u001b[0m\u001b[1;33m=\u001b[0m\u001b[1;33m[\u001b[0m\u001b[1;36m10\u001b[0m\u001b[1;33m,\u001b[0m\u001b[1;36m7\u001b[0m\u001b[1;33m,\u001b[0m\u001b[1;36m4\u001b[0m\u001b[1;33m,\u001b[0m\u001b[1;36m2\u001b[0m\u001b[1;33m]\u001b[0m\u001b[1;33m\u001b[0m\u001b[1;33m\u001b[0m\u001b[0m\n\u001b[0;32m      2\u001b[0m \u001b[1;32mfor\u001b[0m \u001b[0mifc\u001b[0m \u001b[1;32min\u001b[0m \u001b[0mrange\u001b[0m\u001b[1;33m(\u001b[0m\u001b[0mlen\u001b[0m\u001b[1;33m(\u001b[0m\u001b[0mfc\u001b[0m\u001b[1;33m)\u001b[0m\u001b[1;33m)\u001b[0m\u001b[1;33m:\u001b[0m\u001b[1;33m\u001b[0m\u001b[1;33m\u001b[0m\u001b[0m\n\u001b[1;32m----> 3\u001b[1;33m     \u001b[0mb\u001b[0m\u001b[1;33m,\u001b[0m \u001b[0ma\u001b[0m \u001b[1;33m=\u001b[0m \u001b[0msignal\u001b[0m\u001b[1;33m.\u001b[0m\u001b[0mbutter\u001b[0m\u001b[1;33m(\u001b[0m\u001b[1;36m2\u001b[0m\u001b[1;33m,\u001b[0m \u001b[1;36m2\u001b[0m\u001b[1;33m*\u001b[0m\u001b[0mmath\u001b[0m\u001b[1;33m.\u001b[0m\u001b[0mpi\u001b[0m\u001b[1;33m*\u001b[0m\u001b[0mfc\u001b[0m\u001b[1;33m[\u001b[0m\u001b[0mifc\u001b[0m\u001b[1;33m]\u001b[0m\u001b[1;33m*\u001b[0m\u001b[0mdt\u001b[0m\u001b[1;33m,\u001b[0m \u001b[0mbtype\u001b[0m\u001b[1;33m=\u001b[0m\u001b[1;34m'low'\u001b[0m\u001b[1;33m,\u001b[0m \u001b[0manalog\u001b[0m\u001b[1;33m=\u001b[0m\u001b[1;32mTrue\u001b[0m\u001b[1;33m)\u001b[0m\u001b[1;33m\u001b[0m\u001b[1;33m\u001b[0m\u001b[0m\n\u001b[0m\u001b[0;32m      4\u001b[0m     \u001b[0mLf\u001b[0m \u001b[1;33m=\u001b[0m \u001b[0msignal\u001b[0m\u001b[1;33m.\u001b[0m\u001b[0mfiltfilt\u001b[0m\u001b[1;33m(\u001b[0m\u001b[0mb\u001b[0m\u001b[1;33m,\u001b[0m \u001b[0ma\u001b[0m\u001b[1;33m,\u001b[0m \u001b[0mL\u001b[0m\u001b[1;33m)\u001b[0m\u001b[1;33m\u001b[0m\u001b[1;33m\u001b[0m\u001b[0m\n\u001b[0;32m      5\u001b[0m     \u001b[0mLfSTD\u001b[0m \u001b[1;33m=\u001b[0m \u001b[0mnp\u001b[0m\u001b[1;33m.\u001b[0m\u001b[0mstd\u001b[0m\u001b[1;33m(\u001b[0m\u001b[0mLf\u001b[0m\u001b[1;33m)\u001b[0m\u001b[1;33m\u001b[0m\u001b[1;33m\u001b[0m\u001b[0m\n",
      "\u001b[1;31mNameError\u001b[0m: name 'dt' is not defined"
     ]
    }
   ],
   "source": [
    "fc=[10,7,4,2]\n",
    "for ifc in range(len(fc)):\n",
    "    b, a = signal.butter(2, 2*math.pi*fc[ifc]*dt, btype='low', analog=True)\n",
    "    Lf = signal.filtfilt(b, a, L)\n",
    "    LfSTD = np.std(Lf)\n",
    "    Lf = Lf/LfSTD\n",
    "    plt.figure(num=1)\n",
    "    plt.title('OU with different cutoff frequency')\n",
    "    plt.plot(T,Lf)\n",
    "    plt.xlim(100,110)"
   ]
  },
  {
   "cell_type": "code",
   "execution_count": 4,
   "metadata": {},
   "outputs": [
    {
     "ename": "NameError",
     "evalue": "name 'para' is not defined",
     "output_type": "error",
     "traceback": [
      "\u001b[1;31m---------------------------------------------------------------------------\u001b[0m",
      "\u001b[1;31mNameError\u001b[0m                                 Traceback (most recent call last)",
      "\u001b[1;32m<ipython-input-4-5c7ee27713f6>\u001b[0m in \u001b[0;36m<module>\u001b[1;34m\u001b[0m\n\u001b[0;32m      1\u001b[0m \u001b[0mfc\u001b[0m\u001b[1;33m=\u001b[0m\u001b[1;33m[\u001b[0m\u001b[1;36m10\u001b[0m\u001b[1;33m,\u001b[0m\u001b[1;36m7\u001b[0m\u001b[1;33m,\u001b[0m\u001b[1;36m4\u001b[0m\u001b[1;33m,\u001b[0m\u001b[1;36m2\u001b[0m\u001b[1;33m]\u001b[0m\u001b[1;33m\u001b[0m\u001b[1;33m\u001b[0m\u001b[0m\n\u001b[1;32m----> 2\u001b[1;33m \u001b[1;32mfor\u001b[0m \u001b[0mifc\u001b[0m \u001b[1;32min\u001b[0m \u001b[0mrange\u001b[0m\u001b[1;33m(\u001b[0m\u001b[0mlen\u001b[0m\u001b[1;33m(\u001b[0m\u001b[0mpara\u001b[0m\u001b[1;33m)\u001b[0m\u001b[1;33m)\u001b[0m\u001b[1;33m:\u001b[0m\u001b[1;33m\u001b[0m\u001b[1;33m\u001b[0m\u001b[0m\n\u001b[0m\u001b[0;32m      3\u001b[0m     \u001b[0mb\u001b[0m\u001b[1;33m,\u001b[0m \u001b[0ma\u001b[0m \u001b[1;33m=\u001b[0m \u001b[0msignal\u001b[0m\u001b[1;33m.\u001b[0m\u001b[0mbutter\u001b[0m\u001b[1;33m(\u001b[0m\u001b[1;36m2\u001b[0m\u001b[1;33m,\u001b[0m \u001b[0mfc\u001b[0m\u001b[1;33m*\u001b[0m\u001b[0mdt\u001b[0m\u001b[1;33m,\u001b[0m \u001b[1;34m'low'\u001b[0m\u001b[1;33m,\u001b[0m \u001b[0manalog\u001b[0m\u001b[1;33m=\u001b[0m\u001b[1;32mTrue\u001b[0m\u001b[1;33m)\u001b[0m\u001b[1;33m\u001b[0m\u001b[1;33m\u001b[0m\u001b[0m\n\u001b[0;32m      4\u001b[0m     \u001b[0mplt\u001b[0m\u001b[1;33m.\u001b[0m\u001b[0mfigure\u001b[0m\u001b[1;33m(\u001b[0m\u001b[0mnum\u001b[0m\u001b[1;33m=\u001b[0m\u001b[1;36m1\u001b[0m\u001b[1;33m)\u001b[0m\u001b[1;33m\u001b[0m\u001b[1;33m\u001b[0m\u001b[0m\n\u001b[0;32m      5\u001b[0m     \u001b[0mplt\u001b[0m\u001b[1;33m.\u001b[0m\u001b[0mtitle\u001b[0m\u001b[1;33m(\u001b[0m\u001b[1;34m'OU with different cutoff frequency'\u001b[0m\u001b[1;33m)\u001b[0m\u001b[1;33m\u001b[0m\u001b[1;33m\u001b[0m\u001b[0m\n",
      "\u001b[1;31mNameError\u001b[0m: name 'para' is not defined"
     ]
    }
   ],
   "source": [
    "fc=[10,7,4,2]\n",
    "for ifc in range(len(fc)):\n",
    "    b, a = signal.butter(2, fc*dt, 'low', analog=True)\n",
    "    Lf = signal.filtfilt(b, a, L)\n",
    "    plt.figure(num=1)\n",
    "    plt.title('OU with different cutoff frequency')\n",
    "    plt.plot(T,Lf)\n",
    "    plt.xlim(100,110)\n",
    "\n",
    "\n",
    "# UNGD output\n",
    "    x=Lf\n",
    "    m=10\n",
    "    b=(3+m)/2\n",
    "    FBsum=np.zeros(len(L))\n",
    "    for k in range(m):\n",
    "        fb=np.zeros(len(x))\n",
    "        for i in range(len(x)):\n",
    "            ck=(k+1)/m\n",
    "            ytime=i/dt-(m-k)*dt\n",
    "            ind=int(ytime*dt)\n",
    "            if ind>0:\n",
    "                fb[i]=ck*x[ind]\n",
    "            elif ind<=0:\n",
    "                fb[i]=0\n",
    "        FBsum=FBsum+fb\n",
    "    y=(3+m)/2*x-FBsum\n",
    "    plt.figure(num=2)\n",
    "    plt.title('NGD output')\n",
    "    plt.plot(T,y)\n",
    "    plt.xlim(100,110)\n",
    "    \n",
    "# assign data to different state\n",
    "# state number should be even\n",
    "    nx=8\n",
    "    ny=8\n",
    "\n",
    "    # states of input\n",
    "    xs=x\n",
    "    xs=np.sort(x)\n",
    "    xstatestep=len(xs)/nx\n",
    "    xinterval=[0]\n",
    "    for i in range(int(nx/2-1)):\n",
    "        xinterval=np.append(xinterval,xs[round(len(xs)/2)+(i+1)*round(xstatestep)])\n",
    "    xinterval=np.append(xinterval,float('inf'))\n",
    "    for j in range(int(nx/2-1)):\n",
    "        xinterval=np.append(xs[round(len(xs)/2)-(j+1)*round(xstatestep)],xinterval)\n",
    "    xinterval=np.append(float('-inf'),xinterval)\n",
    "    print(xinterval)\n",
    "    xstate=np.zeros(len(x))\n",
    "    for i in range(len(x)):\n",
    "        tempinterval=[]\n",
    "        state=[]\n",
    "        tempinterval=np.array(xinterval)\n",
    "        tempinterval=np.append(tempinterval,x[i])\n",
    "        tempinterval=np.sort(tempinterval)\n",
    "        state=np.where(tempinterval==x[i])\n",
    "        xstate[i]=state[0][0]\n",
    "\n",
    "    # states of output\n",
    "    ys=y\n",
    "    ys=np.sort(y)\n",
    "    ystatestep=len(ys)/ny\n",
    "    yinterval=[0]\n",
    "    for i in range(int(ny/2-1)):\n",
    "        yinterval=np.append(yinterval,ys[round(len(ys)/2)+(i+1)*round(ystatestep)])\n",
    "    yinterval=np.append(yinterval,float('inf'))\n",
    "    for j in range(int(ny/2-1)):\n",
    "        yinterval=np.append(ys[round(len(ys)/2)-(j+1)*round(ystatestep)],yinterval)\n",
    "    yinterval=np.append(float('-inf'),yinterval)\n",
    "    print(yinterval)\n",
    "    ystate=np.zeros(len(y))\n",
    "    for i in range(len(y)):\n",
    "        tempinterval=[]\n",
    "        state=[]\n",
    "        tempinterval=np.array(yinterval)\n",
    "        tempinterval=np.append(tempinterval,y[i])\n",
    "        tempinterval=np.sort(tempinterval)\n",
    "        state=np.where(tempinterval==y[i])\n",
    "        ystate[i]=state[0][0]\n",
    "        \n",
    "        \n",
    "# calculating mutual information\n",
    "    negshift=-1 # second\n",
    "    posshift=1 # second\n",
    "    shiftdu=dt # second\n",
    "    shiftlen=(posshift-negshift)/dt+1\n",
    "    timeshift=np.linspace(negshift,posshift,int(shiftlen))\n",
    "    bitshift=np.linspace(negshift/dt,posshift/dt,int(shiftlen))\n",
    "    xedges=np.linspace(1,nx+1,nx+1) # states of x\n",
    "    yedges=np.linspace(1,ny+1,ny+1) # states of y\n",
    "\n",
    "    # shifted data\n",
    "    # shift>0 => y shifted to positive side\n",
    "    MI=np.zeros(len(bitshift))\n",
    "    for i in range(len(bitshift)):\n",
    "        xx=[]\n",
    "        yy=[]\n",
    "        shift=int(bitshift[i])\n",
    "        if shift>0:\n",
    "            xx=xstate[shift:]\n",
    "            yy=ystate[:-shift]\n",
    "        elif shift==0:\n",
    "            xx=xstate\n",
    "            yy=ystate\n",
    "        elif shift<0:\n",
    "            xx=xstate[:shift]\n",
    "            yy=ystate[-shift:]\n",
    "\n",
    "        H, xedges, yedges = np.histogram2d(xx, yy, bins=(xedges, yedges))\n",
    "        statesum=np.sum(H)\n",
    "        px_list=np.sum(H,axis=1)/statesum\n",
    "        py_list=np.sum(H,axis=0)/statesum\n",
    "        pxy_list=H/statesum\n",
    "\n",
    "        MIsingle=np.zeros(len(xx))\n",
    "        for j in range(len(xx)):\n",
    "            px=px_list[int(xx[j]-1)]\n",
    "            py=py_list[int(yy[j]-1)]\n",
    "            pxy=pxy_list[int(xx[j]-1)][int(yy[j]-1)]\n",
    "            MIsingle[j]=pxy*math.log2(pxy/px/py)\n",
    "        MI[i]=np.sum(MIsingle)\n",
    "    plt.figure(num=3)\n",
    "    plt.title('MI')\n",
    "    plt.plot(timeshift,MI)\n",
    "    plt.xlim(-0.5,0.5)"
   ]
  },
  {
   "cell_type": "code",
   "execution_count": null,
   "metadata": {
    "scrolled": true
   },
   "outputs": [],
   "source": []
  },
  {
   "cell_type": "code",
   "execution_count": null,
   "metadata": {},
   "outputs": [],
   "source": []
  }
 ],
 "metadata": {
  "anaconda-cloud": {},
  "kernelspec": {
   "display_name": "Python 3",
   "language": "python",
   "name": "python3"
  },
  "language_info": {
   "codemirror_mode": {
    "name": "ipython",
    "version": 3
   },
   "file_extension": ".py",
   "mimetype": "text/x-python",
   "name": "python",
   "nbconvert_exporter": "python",
   "pygments_lexer": "ipython3",
   "version": "3.7.4"
  }
 },
 "nbformat": 4,
 "nbformat_minor": 2
}
