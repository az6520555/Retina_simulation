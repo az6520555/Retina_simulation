{
 "cells": [
  {
   "cell_type": "code",
   "execution_count": 1,
   "metadata": {
    "collapsed": false
   },
   "outputs": [],
   "source": [
    "import numpy as np\n",
    "import matplotlib.pyplot as plt\n",
    "import math \n",
    "from PyAstronomy import pyasl\n",
    "%matplotlib inline"
   ]
  },
  {
   "cell_type": "code",
   "execution_count": null,
   "metadata": {
    "collapsed": true
   },
   "outputs": [],
   "source": [
    "T=np.linspace(0,3,10000)\n",
    "dt=T[1]-T[0]\n",
    "L=math.sin"
   ]
  },
  {
   "cell_type": "code",
   "execution_count": 5,
   "metadata": {
    "collapsed": false
   },
   "outputs": [
    {
     "data": {
      "image/png": "[encoded data removed]",
      "text/plain": [
       "<matplotlib.figure.Figure at 0xb9eab00>"
      ]
     },
     "metadata": {},
     "output_type": "display_data"
    }
   ],
   "source": [
    "# UNGD output\n",
    "x=L\n",
    "m=30\n",
    "b=(3+m)/2\n",
    "FBsum=np.zeros(len(L))\n",
    "for k in range(m):\n",
    "    fb=np.zeros(len(x))\n",
    "    for i in range(len(x)):\n",
    "        ck=(k+1)/m\n",
    "        ytime=i/dt-(m-k)*dt\n",
    "        ind=int(ytime*dt)\n",
    "        if ind>0:\n",
    "            fb[i]=ck*x[ind]\n",
    "        elif ind<=0:\n",
    "            fb[i]=0\n",
    "    FBsum=FBsum+fb\n",
    "y=(3+m)/2*x-FBsum\n",
    "plt.plot(T,L)\n",
    "plt.plot(T,y)\n",
    "plt.xlim(150,152)\n",
    "plt.show()"
   ]
  },
  {
   "cell_type": "code",
   "execution_count": 6,
   "metadata": {
    "collapsed": false
   },
   "outputs": [
    {
     "name": "stdout",
     "output_type": "stream",
     "text": [
      "[       -inf -0.91491984 -0.54549027 -0.27193826  0.          0.21572745\n",
      "  0.48848818  0.85614876         inf]\n",
      "[       -inf -1.38956288 -0.8217252  -0.39176292  0.          0.34228073\n",
      "  0.7459841   1.30830181         inf]\n"
     ]
    },
    {
     "data": {
      "image/png": "[encoded data removed]",
      "text/plain": [
       "<matplotlib.figure.Figure at 0xc30ce80>"
      ]
     },
     "metadata": {},
     "output_type": "display_data"
    },
    {
     "name": "stdout",
     "output_type": "stream",
     "text": [
      "29999 29999 29999\n"
     ]
    }
   ],
   "source": [
    "# assign data to different state\n",
    "# state number should be even\n",
    "nx=8\n",
    "ny=8\n",
    "\n",
    "# states of input\n",
    "xs=x\n",
    "xs=np.sort(x)\n",
    "xstatestep=len(xs)/nx\n",
    "xinterval=[0]\n",
    "for i in range(int(nx/2-1)):\n",
    "    xinterval=np.append(xinterval,xs[round(len(xs)/2)+(i+1)*round(xstatestep)])\n",
    "xinterval=np.append(xinterval,float('inf'))\n",
    "for j in range(int(nx/2-1)):\n",
    "    xinterval=np.append(xs[round(len(xs)/2)-(j+1)*round(xstatestep)],xinterval)\n",
    "xinterval=np.append(float('-inf'),xinterval)\n",
    "print(xinterval)\n",
    "xstate=np.zeros(len(x))\n",
    "for i in range(len(x)):\n",
    "    tempinterval=[]\n",
    "    state=[]\n",
    "    tempinterval=np.array(xinterval)\n",
    "    tempinterval=np.append(tempinterval,x[i])\n",
    "    tempinterval=np.sort(tempinterval)\n",
    "    state=np.where(tempinterval==x[i])\n",
    "    xstate[i]=state[0][0]\n",
    "\n",
    "# states of output\n",
    "ys=y\n",
    "ys=np.sort(y)\n",
    "ystatestep=len(ys)/ny\n",
    "yinterval=[0]\n",
    "for i in range(int(ny/2-1)):\n",
    "    yinterval=np.append(yinterval,ys[round(len(ys)/2)+(i+1)*round(ystatestep)])\n",
    "yinterval=np.append(yinterval,float('inf'))\n",
    "for j in range(int(ny/2-1)):\n",
    "    yinterval=np.append(ys[round(len(ys)/2)-(j+1)*round(ystatestep)],yinterval)\n",
    "yinterval=np.append(float('-inf'),yinterval)\n",
    "print(yinterval)\n",
    "ystate=np.zeros(len(y))\n",
    "for i in range(len(y)):\n",
    "    tempinterval=[]\n",
    "    state=[]\n",
    "    tempinterval=np.array(yinterval)\n",
    "    tempinterval=np.append(tempinterval,y[i])\n",
    "    tempinterval=np.sort(tempinterval)\n",
    "    state=np.where(tempinterval==y[i])\n",
    "    ystate[i]=state[0][0]\n",
    "    \n",
    "plt.plot(xstate)\n",
    "plt.plot(ystate)\n",
    "plt.xlim()\n",
    "plt.show()\n",
    "print(len(xstate),len(ystate),len(y))\n"
   ]
  },
  {
   "cell_type": "code",
   "execution_count": 7,
   "metadata": {
    "collapsed": true
   },
   "outputs": [],
   "source": [
    "# calculating mutual information\n",
    "negshift=-1 # second\n",
    "posshift=1 # second\n",
    "shiftdu=dt # second\n",
    "shiftlen=(posshift-negshift)/dt+1\n",
    "timeshift=np.linspace(negshift,posshift,shiftlen)\n",
    "bitshift=np.linspace(negshift/dt,posshift/dt,shiftlen)\n",
    "xedges=np.linspace(1,nx+1,nx+1) # states of x\n",
    "yedges=np.linspace(1,ny+1,ny+1) # states of y\n",
    "\n",
    "# shifted data\n",
    "# shift>0 => y shifted to positive side\n",
    "MI=np.zeros(len(bitshift))\n",
    "for i in range(len(bitshift)):\n",
    "    xx=[]\n",
    "    yy=[]\n",
    "    shift=int(bitshift[i])\n",
    "    if shift>0:\n",
    "        xx=xstate[shift:]\n",
    "        yy=ystate[:-shift]\n",
    "    elif shift==0:\n",
    "        xx=xstate\n",
    "        yy=ystate\n",
    "    elif shift<0:\n",
    "        xx=xstate[:shift]\n",
    "        yy=ystate[-shift:]\n",
    "\n",
    "    H, xedges, yedges = np.histogram2d(xx, yy, bins=(xedges, yedges))\n",
    "    statesum=np.sum(H)\n",
    "    px_list=np.sum(H,axis=1)/statesum\n",
    "    py_list=np.sum(H,axis=0)/statesum\n",
    "    pxy_list=H/statesum\n",
    "    \n",
    "    MIsingle=np.zeros(len(xx))\n",
    "    for j in range(len(xx)):\n",
    "        px=px_list[int(xx[j]-1)]\n",
    "        py=py_list[int(yy[j]-1)]\n",
    "        pxy=pxy_list[int(xx[j]-1)][int(yy[j]-1)]\n",
    "        MIsingle[j]=pxy*math.log2(pxy/px/py)\n",
    "    MI[i]=np.sum(MIsingle)\n",
    "    \n"
   ]
  },
  {
   "cell_type": "code",
   "execution_count": 8,
   "metadata": {
    "collapsed": false
   },
   "outputs": [
    {
     "data": {
      "text/plain": [
       "[<matplotlib.lines.Line2D at 0xd96e3c8>]"
      ]
     },
     "execution_count": 8,
     "metadata": {},
     "output_type": "execute_result"
    },
    {
     "data": {
      "image/png": "[encoded data removed]",
      "text/plain": [
       "<matplotlib.figure.Figure at 0xc2f8978>"
      ]
     },
     "metadata": {},
     "output_type": "display_data"
    }
   ],
   "source": [
    "\n",
    "plt.plot(timeshift,MI)"
   ]
  },
  {
   "cell_type": "code",
   "execution_count": null,
   "metadata": {
    "collapsed": true
   },
   "outputs": [],
   "source": []
  },
  {
   "cell_type": "code",
   "execution_count": null,
   "metadata": {
    "collapsed": true
   },
   "outputs": [],
   "source": []
  }
 ],
 "metadata": {
  "anaconda-cloud": {},
  "kernelspec": {
   "display_name": "Python 3.5.2 64-bit ('root': conda)",
   "language": "python",
   "name": "python35264bitrootcondac5fb27e546ea47b0960fadfe677a4219"
  },
  "language_info": {
   "codemirror_mode": {
    "name": "ipython",
    "version": 3
   },
   "file_extension": ".py",
   "mimetype": "text/x-python",
   "name": "python",
   "nbconvert_exporter": "python",
   "pygments_lexer": "ipython3",
   "version": "3.5.2"
  }
 },
 "nbformat": 4,
 "nbformat_minor": 2
}
