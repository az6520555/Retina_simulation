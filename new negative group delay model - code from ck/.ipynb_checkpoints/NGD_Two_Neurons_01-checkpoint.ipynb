{
 "cells": [
  {
   "cell_type": "markdown",
   "metadata": {},
   "source": [
    "Demonstration of NGD in two neurons system\n",
    "adapated from HMM_GA_01\n",
    "20200414 created by CKC"
   ]
  },
  {
   "cell_type": "code",
   "execution_count": 1,
   "metadata": {},
   "outputs": [],
   "source": [
    "from timeit import default_timer as timer\n",
    "import numpy as np\n",
    "from random import gauss\n",
    "from math import sqrt\n",
    "import matplotlib as mpl\n",
    "mpl.use('nbagg')\n",
    "from mpl_toolkits.mplot3d import Axes3D\n",
    "import matplotlib.pyplot as plt\n",
    "%matplotlib inline"
   ]
  },
  {
   "cell_type": "code",
   "execution_count": 2,
   "metadata": {},
   "outputs": [],
   "source": [
    "# using numpy's histogram2d to calculate the mutual information between two sequences\n",
    "def mi_quick(a,b,d,bn=25):\n",
    "    if d>0: xy,_,_ = np.histogram2d(a[d:],b[:-d],bn)\n",
    "    elif d<0: xy,_,_ = np.histogram2d(a[:d],b[-d:],bn)\n",
    "    else: xy,_,_ = np.histogram2d(a,b,bn)\n",
    "    xy /= np.sum(xy)\n",
    "    px = [np.array([max(x,1e-100) for x in np.sum(xy,axis=0)])]\n",
    "    py = np.transpose([[max(x,1e-100) for x in np.sum(xy,axis=1)]])\n",
    "    nxy = (xy/px)/py\n",
    "    nxy[nxy==0] = 1e-100\n",
    "    return np.sum(xy*np.log2(nxy))"
   ]
  },
  {
   "cell_type": "code",
   "execution_count": 3,
   "metadata": {},
   "outputs": [],
   "source": [
    "def rescale(x,xmax,xmin):\n",
    "    rx = np.zeros(len(x))\n",
    "    xminval = np.min(x)\n",
    "    xmaxval = np.max(x)\n",
    "    for i in range(len(x)):\n",
    "        rx[i] = (x[i]-xminval)/(xmaxval-xminval)*(xmax-xmin)+xmin\n",
    "    return rx"
   ]
  },
  {
   "cell_type": "code",
   "execution_count": 4,
   "metadata": {},
   "outputs": [],
   "source": [
    "# generate the HMM signal\n",
    "\n",
    "G_HMM = 1.0; \n",
    "D_HMM = 2.7e6;     #dynamical range\n",
    "nstep = 10000\n",
    "dt = 0.005\n",
    "\n",
    "# HMM model parameters\n",
    "#    G_HMM = 4; \n",
    "#    D_HMM = 2700000;     #dynamical range\n",
    "omega =G_HMM/2.12;   # omega = G/(2w)=1.06; follow Bialek's overdamped dynamics/ 2015PNAS\n",
    "\n",
    "# generate the stochastic sequence in x\n",
    "x = np.zeros(nstep)\n",
    "v = np.zeros(nstep)\n",
    "x[0] = 0.0\n",
    "v[0] = 0.0\n",
    "for i in range(1,nstep):\n",
    "        x[i] = x[i-1] + v[i-1]*dt\n",
    "        v[i] = (1-G_HMM*dt)*v[i-1]-omega**2*x[i-1]*dt + gauss(0,1)*np.sqrt(D_HMM*dt)\n"
   ]
  },
  {
   "cell_type": "code",
   "execution_count": 5,
   "metadata": {},
   "outputs": [],
   "source": [
    "# Two neurons model for NGD\n",
    "\n",
    "y  = np.zeros(nstep)\n",
    "z  = np.zeros(nstep)\n",
    "\n",
    "alpha = 60.\n",
    "beta =  2.0\n",
    "\n",
    "K = 30.\n",
    "G = 30.\n",
    "\n",
    "y[0] = 0.0\n",
    "z[0] = 0.0\n",
    "\n",
    "\n",
    "for i in range(1,nstep):\n",
    "    dy = (-alpha*y[i-1]+K*(x[i-1] - z[i-1]))*dt\n",
    "    dz = (- beta*z[i-1]+G*y[i-1])*dt\n",
    "    y[i] = y[i-1] + dy\n",
    "    z[i] = z[i-1] + dz"
   ]
  },
  {
   "cell_type": "code",
   "execution_count": 6,
   "metadata": {},
   "outputs": [
    {
     "data": {
      "text/plain": [
       "[<matplotlib.lines.Line2D at 0x18e2df48>]"
      ]
     },
     "execution_count": 6,
     "metadata": {},
     "output_type": "execute_result"
    },
    {
     "data": {
      "image/png": "[encoded data removed]",
      "text/plain": [
       "<Figure size 432x288 with 1 Axes>"
      ]
     },
     "metadata": {
      "needs_background": "light"
     },
     "output_type": "display_data"
    }
   ],
   "source": [
    "# effect of smoothing and delay in z(t)\n",
    "\n",
    "ry = rescale(y,1,-1)\n",
    "rz = rescale(z,1,-1)\n",
    "plt.plot(ry)\n",
    "plt.plot(rz)\n",
    "#plt.xlim([0,3000])"
   ]
  },
  {
   "cell_type": "code",
   "execution_count": 7,
   "metadata": {},
   "outputs": [
    {
     "ename": "NameError",
     "evalue": "name 'rx' is not defined",
     "output_type": "error",
     "traceback": [
      "\u001b[1;31m---------------------------------------------------------------------------\u001b[0m",
      "\u001b[1;31mNameError\u001b[0m                                 Traceback (most recent call last)",
      "\u001b[1;32m<ipython-input-7-3d81f6f10f77>\u001b[0m in \u001b[0;36m<module>\u001b[1;34m\u001b[0m\n\u001b[1;32m----> 1\u001b[1;33m \u001b[0mplt\u001b[0m\u001b[1;33m.\u001b[0m\u001b[0mplot\u001b[0m\u001b[1;33m(\u001b[0m\u001b[0mrx\u001b[0m\u001b[1;33m,\u001b[0m\u001b[1;34m'b'\u001b[0m\u001b[1;33m)\u001b[0m\u001b[1;33m\u001b[0m\u001b[1;33m\u001b[0m\u001b[0m\n\u001b[0m\u001b[0;32m      2\u001b[0m \u001b[0mplt\u001b[0m\u001b[1;33m.\u001b[0m\u001b[0mplot\u001b[0m\u001b[1;33m(\u001b[0m\u001b[0mry\u001b[0m\u001b[1;33m,\u001b[0m\u001b[1;34m'r'\u001b[0m\u001b[1;33m)\u001b[0m\u001b[1;33m\u001b[0m\u001b[1;33m\u001b[0m\u001b[0m\n",
      "\u001b[1;31mNameError\u001b[0m: name 'rx' is not defined"
     ]
    }
   ],
   "source": [
    "plt.plot(rx,'b')\n",
    "plt.plot(ry,'r')"
   ]
  },
  {
   "cell_type": "code",
   "execution_count": null,
   "metadata": {},
   "outputs": [],
   "source": [
    "dms = range(-499,500)\n",
    "mi_xx = [mi_quick(x,x,d) for d in dms]  \n",
    "mi_xy = [mi_quick(x,y,d) for d in dms]"
   ]
  },
  {
   "cell_type": "code",
   "execution_count": null,
   "metadata": {},
   "outputs": [],
   "source": [
    "plt.plot(dms,mi_xx)\n",
    "plt.plot(dms,mi_xy)"
   ]
  },
  {
   "cell_type": "code",
   "execution_count": null,
   "metadata": {},
   "outputs": [],
   "source": [
    "# shift in peak position\n",
    "np.argmax(mi_xy)-np.argmax(mi_xx)"
   ]
  },
  {
   "cell_type": "code",
   "execution_count": null,
   "metadata": {},
   "outputs": [],
   "source": []
  },
  {
   "cell_type": "code",
   "execution_count": null,
   "metadata": {},
   "outputs": [],
   "source": []
  }
 ],
 "metadata": {
  "kernelspec": {
   "display_name": "Python 3",
   "language": "python",
   "name": "python3"
  },
  "language_info": {
   "codemirror_mode": {
    "name": "ipython",
    "version": 3
   },
   "file_extension": ".py",
   "mimetype": "text/x-python",
   "name": "python",
   "nbconvert_exporter": "python",
   "pygments_lexer": "ipython3",
   "version": "3.7.7"
  }
 },
 "nbformat": 4,
 "nbformat_minor": 2
}
